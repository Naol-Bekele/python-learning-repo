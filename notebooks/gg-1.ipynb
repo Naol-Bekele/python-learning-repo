{
    "cells": [
        {
            "cell_type": "markdown",
            "id": "#VSC-b8932cfc",
            "metadata": {},
            "source": [
                "# 🐍 Real Python: Python Basics\n",
                "## A Practical Introduction to Python 3\n",
                "\n",
                "Welcome to your Python learning journey! This notebook will guide you through the essentials of Python programming with clear explanations, practical examples, and interactive code cells.\n",
                "\n",
                "<img src=\"https://www.python.org/static/community_logos/python-logo.png\" alt=\"Python Logo\" width=\"300\"/>\n",
                "\n",
                "---\n",
                "\n",
                "> 🌟 **Tip:** Python is named after Monty Python, not the snake! Python is loved for its simplicity and readability.\n",
                "\n",
                "<img src=\"https://upload.wikimedia.org/wikipedia/commons/c/c3/Python-logo-notext.svg\" alt=\"Python Mascot\" width=\"120\"/>"
            ]
        },
        {
            "cell_type": "markdown",
            "id": "#VSC-48113f2c",
            "metadata": {},
            "source": [
                "# 📖 Chapter 1: Your First Python Program\n",
                "\n",
                "Let's start with the classic \"Hello, World!\" example. This is often the first program written when learning a new language. 😊\n",
                "\n",
                "The `print()` function is your gateway to seeing output from your code. It's simple, powerful, and used everywhere in Python.\n",
                "\n",
                "\n",
                "🔎 **Learning Objective:** Display output in Python using the `print()` function."
            ]
        },
        {
            "cell_type": "code",
            "execution_count": 2,
            "id": "#VSC-4dc484e6",
            "metadata": {},
            "outputs": [
                {
                    "name": "stdout",
                    "output_type": "stream",
                    "text": [
                        "Hello, World! 👋\n"
                    ]
                }
            ],
            "source": [
                "# This prints a message to the output\n",
                "print(\"Hello, World! 👋\")"
            ]
        },
        {
            "cell_type": "markdown",
            "id": "#VSC-b818e949",
            "metadata": {},
            "source": [
                "**Explanation:**\n",
                "- The `print()` function displays the text inside the quotation marks to the output.\n",
                "- You can change the message to anything you like!\n",
                "\n",
                "> 💡 Try changing the message below and see what happens!"
            ]
        },
        {
            "cell_type": "code",
            "execution_count": 1,
            "id": "#VSC-9b2ec625",
            "metadata": {},
            "outputs": [
                {
                    "name": "stdout",
                    "output_type": "stream",
                    "text": [
                        "Welcome to Python programming!\n"
                    ]
                }
            ],
            "source": [
                "# Try changing the message below\n",
                "print(\"Welcome to Python programming!\")"
            ]
        },
        {
            "cell_type": "markdown",
            "id": "#VSC-ff4b2b6d",
            "metadata": {},
            "source": [
                "---\n",
                "## ⚠️ Common Errors in Python\n",
                "\n",
                "Errors are a normal part of programming. Python will help you spot mistakes so you can fix them and learn. There are two main types:\n",
                "\n",
                "- 📝 **Syntax Error:** Your code breaks Python's rules (like missing quotes or parentheses).\n",
                "- 🏃 **Runtime Error:** Your code runs, but something goes wrong (like using a variable that doesn't exist).\n",
                "\n",
                "Don't worry! Every error is a step toward mastering Python. Debugging is a skill you'll use every day.\n",
                "\n",
                "🔎 **Learning Objective:** Recognize and understand basic error types in Python.\n"
            ]
        },
        {
            "cell_type": "code",
            "execution_count": null,
            "id": "#VSC-d325387a",
            "metadata": {},
            "outputs": [],
            "source": [
                "# Syntax error example (uncomment to see the error)\n",
                "# print(\"Hello, World)\n",
                "\n",
                "# Runtime error example (uncomment to see the error)\n",
                "# print(unknown_variable)"
            ]
        },
        {
            "cell_type": "markdown",
            "id": "#VSC-25474dba",
            "metadata": {},
            "source": [
                "---\n",
                "## 📝 Variables in Python\n",
                "\n",
                "Variables are names that store values. They help you keep track of information in your code.\n",
                "\n",
                "Think of variables as labeled boxes where you can store data for later use. Good variable names make your code easier to read and maintain.\n",
                "\n",
                "<img src=\"https://realpython.com/learn/python-first-steps/images/variables.svg\" alt=\"Python Variables\" width=\"350\"/>\n",
                "\n",
                "🔎 **Learning Objective:** Learn how to create and use variables in Python."
            ]
        },
        {
            "cell_type": "code",
            "execution_count": 3,
            "id": "#VSC-5100f7cd",
            "metadata": {},
            "outputs": [
                {
                    "name": "stdout",
                    "output_type": "stream",
                    "text": [
                        "Hello, World!\n"
                    ]
                }
            ],
            "source": [
                "# Assign a value to a variable\n",
                "greeting_message = \"Hello, World!\"\n",
                "print(greeting_message)  # Output: Hello, World!"
            ]
        },
        {
            "cell_type": "markdown",
            "id": "#VSC-37825954",
            "metadata": {},
            "source": [
                "---\n",
                "## 🏷️ Rules for Valid Variable Names\n",
                "\n",
                "Variable names can be long or short, but must follow these rules:\n",
                "\n",
                "- ✅ May contain letters (A–Z, a–z), digits (0–9), and underscores (_)\n",
                "- 🚫 Cannot start with a digit\n",
                "- 🔠 Are case-sensitive (`Name` and `name` are different)\n",
                "\n",
                "Choose meaningful names to make your code easy to read!\n",
                "\n",
                "**Valid examples:**\n",
                "- `user_name`\n",
                "- `score1`\n",
                "- `_hidden_value`\n",
                "\n",
                "**Invalid examples:**\n",
                "- `9lives` (starts with a digit)\n",
                "- `99_balloons` (starts with a digit)\n",
                "- `2beOrNot2Be` (starts with a digit)\n",
                "\n",
                "> 🧑‍💻 **Tip:** Use descriptive names for variables to make your code self-explanatory.\n",
                "\n",
                "---"
            ]
        },
        {
            "cell_type": "markdown",
            "id": "#VSC-7f83fbb1",
            "metadata": {},
            "source": [
                "# 📚 Chapter 2: Strings and String Methods\n",
                "\n",
                "Strings are sequences of characters used to store text. In Python, strings are one of the most commonly used data types.\n",
                "\n",
                "You can use single or double quotes to create strings. Strings are used everywhere: for messages, names, and more.\n",
                "\n",
                "<img src=\"https://upload.wikimedia.org/wikipedia/commons/7/74/ASCII-Table.svg\" alt=\"ASCII Table\" width=\"400\"/>\n",
                "\n",
                "🔎 **Learning Objective:** Understand string creation, manipulation, and common methods."
            ]
        },
        {
            "cell_type": "code",
            "execution_count": 4,
            "id": "#VSC-693f5ca7",
            "metadata": {},
            "outputs": [
                {
                    "name": "stdout",
                    "output_type": "stream",
                    "text": [
                        "Hello, Python!\n",
                        "Hello, World!\n"
                    ]
                }
            ],
            "source": [
                "# Create strings with single or double quotes\n",
                "single_quote = 'Hello, Python!'\n",
                "double_quote = \"Hello, World!\"\n",
                "print(single_quote)\n",
                "print(double_quote)"
            ]
        },
        {
            "cell_type": "markdown",
            "id": "#VSC-2a94e9bc",
            "metadata": {},
            "source": [
                "## Strings with Quotes Inside\n",
                "\n",
                "You can use single or double quotes to include quotes inside your string. If you need both types, use escape characters (`\\`).\n",
                "\n",
                "> 💡 Strings are flexible! Try mixing quotes and see what happens."
            ]
        },
        {
            "cell_type": "code",
            "execution_count": 5,
            "id": "#VSC-233c2ea4",
            "metadata": {},
            "outputs": [
                {
                    "name": "stdout",
                    "output_type": "stream",
                    "text": [
                        "We're #1!\n",
                        "I said, \"Put it over by the llama.\"\n"
                    ]
                }
            ],
            "source": [
                "string1 = \"We're #1!\"\n",
                "string2 = 'I said, \"Put it over by the llama.\"'\n",
                "print(string1)\n",
                "print(string2)"
            ]
        },
        {
            "cell_type": "code",
            "execution_count": 6,
            "id": "#VSC-53a206f0",
            "metadata": {},
            "outputs": [
                {
                    "name": "stdout",
                    "output_type": "stream",
                    "text": [
                        "She said, \"What time is it?\"\n"
                    ]
                }
            ],
            "source": [
                "# Or use escape characters (\\) to include quotes\n",
                "text = \"She said, \\\"What time is it?\\\"\"\n",
                "print(text)"
            ]
        },
        {
            "cell_type": "markdown",
            "id": "#VSC-da479e47",
            "metadata": {},
            "source": [
                "---\n",
                "## 📏 String Length\n",
                "\n",
                "Use the `len()` function to find the number of characters in a string. This is useful for checking input or formatting output.\n",
                "\n",
                "> 🔢 Counting characters helps with validation and formatting."
            ]
        },
        {
            "cell_type": "code",
            "execution_count": 7,
            "id": "#VSC-4887d30f",
            "metadata": {},
            "outputs": [
                {
                    "name": "stdout",
                    "output_type": "stream",
                    "text": [
                        "6\n"
                    ]
                }
            ],
            "source": [
                "word = \"Python\"\n",
                "length = len(word)\n",
                "print(length)  # Output: 6"
            ]
        },
        {
            "cell_type": "markdown",
            "id": "#VSC-ab38f7f3",
            "metadata": {},
            "source": [
                "---\n",
                "## 📝 Multiline Strings\n",
                "\n",
                "Use triple quotes (`'''` or `\"\"\"`) for strings that span multiple lines. Great for long messages or documentation.\n"
            ]
        },
        {
            "cell_type": "code",
            "execution_count": 8,
            "id": "#VSC-39356e81",
            "metadata": {},
            "outputs": [
                {
                    "name": "stdout",
                    "output_type": "stream",
                    "text": [
                        "This is a string\n",
                        "that spans multiple lines.\n"
                    ]
                }
            ],
            "source": [
                "paragraph = \"\"\"This is a string\n",
                "that spans multiple lines.\"\"\"\n",
                "print(paragraph)"
            ]
        },
        {
            "cell_type": "markdown",
            "id": "#VSC-622ae06a",
            "metadata": {},
            "source": [
                "---\n",
                "## 🔗 String Operations\n",
                "\n",
                "You can join (concatenate) strings or repeat them using `+` and `*` operators. This is useful for building messages or repeating patterns.\n",
                "\n",
                "> 🧩 Combine strings to create new messages!"
            ]
        },
        {
            "cell_type": "code",
            "execution_count": 9,
            "id": "#VSC-be9bdc4c",
            "metadata": {},
            "outputs": [
                {
                    "name": "stdout",
                    "output_type": "stream",
                    "text": [
                        "abracadabra\n",
                        "abra cadabra\n"
                    ]
                }
            ],
            "source": [
                "first = \"abra\"\n",
                "second = \"cadabra\"\n",
                "magic = first + second\n",
                "print(magic)  # Output: abracadabra\n",
                "\n",
                "# Add a space between words\n",
                "magic_with_space = first + \" \" + second\n",
                "print(magic_with_space)  # Output: abra cadabra"
            ]
        },
        {
            "cell_type": "markdown",
            "id": "#VSC-fee98e0f",
            "metadata": {},
            "source": [
                "### Repetition\n",
                "\n",
                "Repeat a string using the `*` operator. This is handy for creating patterns or repeated text."
            ]
        },
        {
            "cell_type": "code",
            "execution_count": 10,
            "id": "#VSC-25c66f76",
            "metadata": {},
            "outputs": [
                {
                    "name": "stdout",
                    "output_type": "stream",
                    "text": [
                        "abraabraabra\n"
                    ]
                }
            ],
            "source": [
                "print(first * 3)  # Output: abraabraabra"
            ]
        },
        {
            "cell_type": "markdown",
            "id": "#VSC-72a5ab82",
            "metadata": {},
            "source": [
                "---\n",
                "## 🔢 Indexing and Slicing\n",
                "\n",
                "Access individual characters or parts of a string using square brackets and slicing. This is useful for extracting information.\n",
                "\n",
                "> 🕵️‍♂️ Slicing lets you grab just the part of the string you need."
            ]
        },
        {
            "cell_type": "code",
            "execution_count": 11,
            "id": "#VSC-29e0e557",
            "metadata": {},
            "outputs": [
                {
                    "name": "stdout",
                    "output_type": "stream",
                    "text": [
                        "i\n"
                    ]
                }
            ],
            "source": [
                "flavor = \"fig pie done\"\n",
                "print(flavor[1])  # Output: i"
            ]
        },
        {
            "cell_type": "markdown",
            "id": "#VSC-1465dae5",
            "metadata": {},
            "source": [
                "### Slicing\n",
                "\n",
                "Extract a substring using the colon `:`. Slicing is powerful for working with parts of strings."
            ]
        },
        {
            "cell_type": "code",
            "execution_count": 14,
            "id": "#VSC-fec620c0",
            "metadata": {},
            "outputs": [
                {
                    "name": "stdout",
                    "output_type": "stream",
                    "text": [
                        "fig\n",
                        "fig\n",
                        "fgpedn\n"
                    ]
                }
            ],
            "source": [
                "print(flavor[0:3])  # Output: fig\n",
                "print(flavor[:3])   # Output: fig\n",
                "print(flavor[::2])   # Output: pie done"
            ]
        },
        {
            "cell_type": "markdown",
            "id": "#VSC-40d8eec1",
            "metadata": {},
            "source": [
                "---\n",
                "## 🚫 Strings Are Immutable\n",
                "\n",
                "Once created, strings cannot be changed. You can create a new string by combining parts. This helps keep your data safe from accidental changes.\n",
                "\n",
                "> 🔒 Immutability means strings are safe and predictable."
            ]
        },
        {
            "cell_type": "code",
            "execution_count": 15,
            "id": "#VSC-e680dc92",
            "metadata": {},
            "outputs": [
                {
                    "name": "stdout",
                    "output_type": "stream",
                    "text": [
                        "foal\n"
                    ]
                }
            ],
            "source": [
                "word = \"goal\"\n",
                "word = \"f\" + word[1:]\n",
                "print(word)  # Output: foal"
            ]
        },
        {
            "cell_type": "markdown",
            "id": "#VSC-5580033c",
            "metadata": {},
            "source": [
                "---\n",
                "## 🛠️ String Methods\n",
                "\n",
                "Python strings have many built-in methods for changing case, trimming spaces, and more. These make text processing easy!\n",
                "\n",
                "> 🛠️ Use string methods to clean and format your data."
            ]
        },
        {
            "cell_type": "code",
            "execution_count": 17,
            "id": "#VSC-0b5ae43c",
            "metadata": {},
            "outputs": [
                {
                    "name": "stdout",
                    "output_type": "stream",
                    "text": [
                        "Jean-Luc Picard\n",
                        "   jean-luc picard   \n",
                        "   JEAN-LUC PICARD   \n",
                        "False\n",
                        "True\n"
                    ]
                }
            ],
            "source": [
                "name = \"   Jean-Luc Picard   \"\n",
                "print(name.strip())      # Remove leading/trailing spaces\n",
                "print(name.lower())      # Convert to lowercase\n",
                "print(name.upper())      # Convert to uppercase\n",
                "print(name.startswith(\"Jean\"))  # False (because of spaces)\n",
                "print(name.strip().startswith(\"Jean\"))  # True"
            ]
        },
        {
            "cell_type": "markdown",
            "id": "#VSC-f5da6e93",
            "metadata": {},
            "source": [
                "---\n",
                "## 🗣️ Interacting with User Input\n",
                "\n",
                "Get input from the user and manipulate it. This is useful for interactive programs.\n",
                "\n",
                "> 🗣️ User input makes your programs interactive and fun!"
            ]
        },
        {
            "cell_type": "code",
            "execution_count": null,
            "id": "#VSC-ce754981",
            "metadata": {},
            "outputs": [],
            "source": [
                "# Uncomment to try in Jupyter\n",
                "# response = input(\"What should I shout? \")\n",
                "# print(\"Well, if you insist... \" + response.upper())"
            ]
        },
        {
            "cell_type": "markdown",
            "id": "#VSC-985eadbc",
            "metadata": {},
            "source": [
                "---\n",
                "## 🔄 Working with Strings and Numbers\n",
                "\n",
                "Strings and numbers can be converted and used together. This is handy for formatting output and calculations.\n",
                "\n",
                "> 🔄 Conversion lets you mix text and numbers easily."
            ]
        },
        {
            "cell_type": "code",
            "execution_count": 18,
            "id": "#VSC-9f18c72c",
            "metadata": {},
            "outputs": [
                {
                    "name": "stdout",
                    "output_type": "stream",
                    "text": [
                        "22\n",
                        "222\n"
                    ]
                }
            ],
            "source": [
                "num = \"2\"\n",
                "print(num + num)  # Output: 22\n",
                "print(num * 3)    # Output: 222"
            ]
        },
        {
            "cell_type": "markdown",
            "id": "#VSC-54374318",
            "metadata": {},
            "source": [
                "### Converting Strings to Numbers\n",
                "\n",
                "Use `int()` and `float()` to convert strings to numbers. This is useful for calculations."
            ]
        },
        {
            "cell_type": "code",
            "execution_count": null,
            "id": "#VSC-ec6d98fc",
            "metadata": {},
            "outputs": [],
            "source": [
                "print(int(\"12\"))      # Output: 12\n",
                "print(float(\"12.0\"))  # Output: 12.0"
            ]
        },
        {
            "cell_type": "markdown",
            "id": "#VSC-e5374886",
            "metadata": {},
            "source": [
                "### Converting Numbers to Strings\n",
                "\n",
                "Use `str()` to convert numbers to strings for output. This is useful for building messages."
            ]
        },
        {
            "cell_type": "code",
            "execution_count": 19,
            "id": "#VSC-f1668a85",
            "metadata": {},
            "outputs": [
                {
                    "name": "stdout",
                    "output_type": "stream",
                    "text": [
                        "I am going to eat 10 pancakes.\n"
                    ]
                }
            ],
            "source": [
                "num_pancakes = 10\n",
                "print(\"I am going to eat \" + str(num_pancakes) + \" pancakes.\")"
            ]
        },
        {
            "cell_type": "markdown",
            "id": "#VSC-171bc89f",
            "metadata": {},
            "source": [
                "---\n",
                "## 🎨 F-Strings for Formatting\n",
                "\n",
                "Use f-strings for readable and concise formatting. F-strings make it easy to include variables in your output.\n"
            ]
        },
        {
            "cell_type": "code",
            "execution_count": 21,
            "id": "#VSC-413d3cab",
            "metadata": {},
            "outputs": [
                {
                    "name": "stdout",
                    "output_type": "stream",
                    "text": [
                        "1 squared is 1\n",
                        "2 squared is 4\n",
                        "3 squared is 9\n",
                        "4 squared is 16\n",
                        "5 squared is 25\n"
                    ]
                }
            ],
            "source": [
                "for n in range(1,6):\n",
                "    print(f\"{n} squared is {n*n}\")"
            ]
        },
        {
            "cell_type": "markdown",
            "id": "#VSC-99d54f1e",
            "metadata": {},
            "source": [
                "---\n",
                "## 🔍 Finding and Replacing in Strings\n",
                "\n",
                "You can search for and replace text in strings using `.find()` and `.replace()`. This is useful for editing and cleaning data.\n",
                "\n",
                "> 🔍 Find and replace helps you manage and clean your text."
            ]
        },
        {
            "cell_type": "code",
            "execution_count": 23,
            "id": "#VSC-c7f17467",
            "metadata": {},
            "outputs": [
                {
                    "name": "stdout",
                    "output_type": "stream",
                    "text": [
                        "4\n",
                        "-1\n"
                    ]
                }
            ],
            "source": [
                "phrase = \"the surprise is in here somewhere\"\n",
                "print(phrase.find(\"surprise\"))  # Output: 4\n",
                "print(phrase.find(\"missing\"))   # Output: -1 if it doesn't exist"
            ]
        },
        {
            "cell_type": "markdown",
            "id": "#VSC-5382741d",
            "metadata": {},
            "source": [
                "### Replacing\n",
                "\n",
                "Use `.replace()` to swap parts of a string. This is great for correcting or updating text."
            ]
        },
        {
            "cell_type": "code",
            "execution_count": 24,
            "id": "#VSC-1ad0b6b0",
            "metadata": {},
            "outputs": [
                {
                    "name": "stdout",
                    "output_type": "stream",
                    "text": [
                        "I'm telling you lies; nothing but lies!\n"
                    ]
                }
            ],
            "source": [
                "my_story = \"I'm telling you the truth; nothing but the truth!\"\n",
                "print(my_story.replace(\"the truth\", \"lies\"))"
            ]
        },
        {
            "cell_type": "markdown",
            "id": "#VSC-f329e719",
            "metadata": {},
            "source": [
                "# 🔢 Chapter 3: Numbers and Math in Python\n",
                "\n",
                "Python supports several numeric types and powerful mathematical operations. Let's explore how to work with numbers!\n",
                "\n",
                "<img src=\"https://realpython.com/learn/python-first-steps/images/numbers.svg\" alt=\"Python Numbers\" width=\"350\"/>\n",
                "\n",
                "## 🧮 Types of Numbers in Python\n",
                "\n",
                "Python has three main numeric types:\n",
                "- **Integers (`int`)**: Whole numbers, e.g., `1`, `42`, `-7`\n",
                "- **Floating-point numbers (`float`)**: Numbers with decimals, e.g., `3.14`, `-0.001`\n",
                "- **Complex numbers (`complex`)**: Numbers with real and imaginary parts, e.g., `2 + 3j`\n",
                "\n",
                "Numbers are used for counting, measuring, and calculations.\n",
                "\n",
                "🔎 **Learning Objective:** Identify and use numeric types."
            ]
        },
        {
            "cell_type": "code",
            "execution_count": 25,
            "id": "#VSC-2ba44cd5",
            "metadata": {},
            "outputs": [
                {
                    "name": "stdout",
                    "output_type": "stream",
                    "text": [
                        "<class 'int'>\n",
                        "<class 'float'>\n",
                        "<class 'complex'>\n"
                    ]
                }
            ],
            "source": [
                "integer_example = 10\n",
                "float_example = 3.1415\n",
                "complex_example = 2 + 3j\n",
                "print(type(integer_example))  # <class 'int'>\n",
                "print(type(float_example))    # <class 'float'>\n",
                "print(type(complex_example))  # <class 'complex'>"
            ]
        },
        {
            "cell_type": "markdown",
            "id": "#VSC-daa9df1d",
            "metadata": {},
            "source": [
                "---\n",
                "## ➕ Arithmetic Operators\n",
                "\n",
                "Python supports all basic arithmetic operations: add, subtract, multiply, divide, and more. These are the building blocks for calculations.\n",
                "\n",
                "> ➕ Arithmetic is essential for any kind of data analysis or computation."
            ]
        },
        {
            "cell_type": "code",
            "execution_count": 26,
            "id": "#VSC-32ef208e",
            "metadata": {},
            "outputs": [
                {
                    "name": "stdout",
                    "output_type": "stream",
                    "text": [
                        "10\n",
                        "4\n",
                        "21\n",
                        "2.3333333333333335\n",
                        "2\n",
                        "343\n",
                        "1\n"
                    ]
                }
            ],
            "source": [
                "a = 7\n",
                "b = 3\n",
                "print(a + b)   # Addition: 10\n",
                "print(a - b)   # Subtraction: 4\n",
                "print(a * b)   # Multiplication: 21\n",
                "print(a / b)   # Division: 2.333...\n",
                "print(a // b)  # Floor Division: 2\n",
                "print(a ** b)  # Exponentiation: 343\n",
                "print(a % b)   # Modulus: 1"
            ]
        },
        {
            "cell_type": "markdown",
            "id": "#VSC-633f64db",
            "metadata": {},
            "source": [
                "---\n",
                "## 📏 Working with Floats\n",
                "\n",
                "Floating-point numbers can represent decimals and use exponential notation. They're great for scientific calculations.\n",
                "\n",
                "> 📏 Use floats for measurements and precise calculations."
            ]
        },
        {
            "cell_type": "code",
            "execution_count": 27,
            "id": "#VSC-a2bdc223",
            "metadata": {},
            "outputs": [
                {
                    "name": "stdout",
                    "output_type": "stream",
                    "text": [
                        "1000000.0\n",
                        "0.0001\n"
                    ]
                }
            ],
            "source": [
                "large_number = 1e6      # 1,000,000.0\n",
                "small_number = 1e-4     # 0.0001\n",
                "print(large_number)\n",
                "print(small_number)"
            ]
        },
        {
            "cell_type": "markdown",
            "id": "#VSC-3da2dfe5",
            "metadata": {},
            "source": [
                "### ⚠️ Floating-point Precision\n",
                "\n",
                "Floating-point numbers are not always exact due to how computers store them. This is normal and can be handled with rounding.\n",
                "\n",
                "> ⚠️ Be aware of small rounding errors in calculations!"
            ]
        },
        {
            "cell_type": "code",
            "execution_count": 28,
            "id": "#VSC-e9aac2f3",
            "metadata": {},
            "outputs": [
                {
                    "name": "stdout",
                    "output_type": "stream",
                    "text": [
                        "0.30000000000000004\n"
                    ]
                }
            ],
            "source": [
                "print(0.1 + 0.2)  # Output: 0.30000000000000004"
            ]
        },
        {
            "cell_type": "markdown",
            "id": "#VSC-90fd01e2",
            "metadata": {},
            "source": [
                "---\n",
                "## 🧑‍🔬 Useful Math Functions\n",
                "\n",
                "Python provides built-in functions for common math tasks like rounding, absolute value, and powers. These help you work with numbers efficiently.\n",
                "\n",
                "> 🧑‍🔬 Math functions make calculations easier and more accurate."
            ]
        },
        {
            "cell_type": "code",
            "execution_count": 30,
            "id": "#VSC-0ea49177",
            "metadata": {},
            "outputs": [
                {
                    "name": "stdout",
                    "output_type": "stream",
                    "text": [
                        "3.14\n",
                        "7\n",
                        "8\n"
                    ]
                }
            ],
            "source": [
                "print(round(3.14159, 2))  # 3.14 rounds to 2 decimal places\n",
                "print(abs(-7))            # 7\n",
                "print(pow(2, 3))          # 8"
            ]
        },
        {
            "cell_type": "markdown",
            "id": "#VSC-226c6ad5",
            "metadata": {},
            "source": [
                "---\n",
                "## 🎨 Formatting Numbers for Output\n",
                "\n",
                "Use f-strings for readable output, including thousands separators and decimal places. This is great for presenting results.\n"
            ]
        },
        {
            "cell_type": "code",
            "execution_count": null,
            "id": "#VSC-eb6d8cdb",
            "metadata": {},
            "outputs": [
                {
                    "name": "stdout",
                    "output_type": "stream",
                    "text": [
                        "1,234,567.85\n"
                    ]
                }
            ],
            "source": [
                "n = 1234567.845674  # 2f rounds to 2 decimal places\n",
                "print(f\"{n:,.2f}\")  # 1,234,567.89 "
            ]
        },
        {
            "cell_type": "markdown",
            "id": "#VSC-b2dc0fcc",
            "metadata": {},
            "source": [
                "---\n",
                "## 🔬 Complex Numbers\n",
                "\n",
                "Complex numbers have a real and imaginary part. Python supports them natively for advanced math.\n",
                "\n",
                "> 🔬 Use complex numbers for scientific and engineering calculations."
            ]
        },
        {
            "cell_type": "code",
            "execution_count": 35,
            "id": "#VSC-9a43d8f7",
            "metadata": {},
            "outputs": [
                {
                    "name": "stdout",
                    "output_type": "stream",
                    "text": [
                        "1.0\n",
                        "2.0\n",
                        "(1-2j)\n"
                    ]
                }
            ],
            "source": [
                "z = 1 + 2j\n",
                "print(z.real)  # 1.0\n",
                "print(z.imag)  # 2.0\n",
                "print(z.conjugate())  # 1 - 2j"
            ]
        },
        {
            "cell_type": "markdown",
            "id": "#VSC-bab472d5",
            "metadata": {},
            "source": [
                "---\n",
                "\n",
                "### 🏆 Practice Challenge\n",
                "\n",
                "Try these exercises:\n",
                "1. Calculate the area of a circle with radius 5.\n",
                "2. Convert 212 Fahrenheit to Celsius.\n",
                "3. Format the number 9876543.21 with commas and two decimal places.\n"
            ]
        },
        {
            "cell_type": "code",
            "execution_count": 36,
            "id": "#VSC-8872cc3a",
            "metadata": {},
            "outputs": [
                {
                    "name": "stdout",
                    "output_type": "stream",
                    "text": [
                        "Area: 78.54\n",
                        "212°F is 100.00°C\n",
                        "Formatted: 9,876,543.22\n"
                    ]
                }
            ],
            "source": [
                "# 1. Area of a circle\n",
                "radius = 5\n",
                "area = 3.14159 * radius ** 2\n",
                "print(f\"Area: {area:.2f}\")\n",
                "\n",
                "# 2. Fahrenheit to Celsius\n",
                "fahrenheit = 212\n",
                "celsius = (fahrenheit - 32) * 5/9\n",
                "print(f\"{fahrenheit}°F is {celsius:.2f}°C\")\n",
                "\n",
                "# 3. Format a large number\n",
                "big_number = 9876543.21578\n",
                "print(f\"Formatted: {big_number:,.2f}\")"
            ]
        },
        {
            "cell_type": "markdown",
            "id": "#VSC-9d134294",
            "metadata": {},
            "source": [
                "---\n",
                "🎯 **Tip:** Practice using these operators and functions to build your confidence with Python math!\n",
                "\n",
                "---"
            ]
        }
    ],
    "metadata": {
        "kernelspec": {
            "display_name": "Python 3",
            "language": "python",
            "name": "python3"
        },
        "language_info": {
            "codemirror_mode": {
                "name": "ipython",
                "version": 3
            },
            "file_extension": ".py",
            "mimetype": "text/x-python",
            "name": "python",
            "nbconvert_exporter": "python",
            "pygments_lexer": "ipython3",
            "version": "3.13.3"
        }
    },
    "nbformat": 4,
    "nbformat_minor": 5
}
