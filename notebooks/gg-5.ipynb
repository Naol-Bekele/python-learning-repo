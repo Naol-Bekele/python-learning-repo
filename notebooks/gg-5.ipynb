{
 "cells": [
  {
   "cell_type": "markdown",
   "id": "intro-header",
   "metadata": {},
   "source": [
    "# 📁 Chapter 11: File Input and Output\n",
    "\n",
    "###  Learning Objectives\n",
    "- Work with file paths and file metadata\n",
    "- Read and write text files\n",
    "- Read and write CSV files\n",
    "- Create, delete, copy, and move files and folders\n",
    "\n",
    "### 💡 Introduction\n",
    "So far, we've worked with input from users and program data. Now we'll learn to work with files for:\n",
    "- Unknown input values during programming\n",
    "- Large datasets beyond user input\n",
    "- Sharing output after program execution"
   ]
  },
  {
   "cell_type": "markdown",
   "id": "filesystem-anatomy",
   "metadata": {},
   "source": [
    "##  11.1 Files and the File System\n",
    "\n",
    "### 📊 The Anatomy of a File\n",
    "- Files are sequences of bytes (0-255 values)\n",
    "- Bytes represent data stored on physical devices\n",
    "- File types: text, images, audio, PDF, etc.\n",
    "\n",
    "### 🖥️ The File System\n",
    "- Provides abstract representation of files\n",
    "- Interfaces with storage devices\n",
    "- Organizes files in hierarchical directories\n",
    "\n",
    "### 📍 File Paths\n",
    "- Strings that locate files in the filesystem\n",
    "- Start from root directory\n",
    "- Unique filenames within directories"
   ]
  },
  {
   "cell_type": "markdown",
   "id": "pathlib-intro",
   "metadata": {},
   "source": [
    "##  11.2 Working With File Paths in Python\n",
    "\n",
    "### 📦 Importing pathlib\n",
    "Python's `pathlib` module provides object-oriented file system paths"
   ]
  },
  {
   "cell_type": "code",
   "execution_count": 1,
   "id": "import-pathlib",
   "metadata": {},
   "outputs": [],
   "source": [
    "import pathlib"
   ]
  },
  {
   "cell_type": "markdown",
   "id": "creating-paths",
   "metadata": {},
   "source": [
    "### 🛠️ Creating Path Objects\n",
    "Three ways to create Path objects:\n",
    "1. From strings\n",
    "2. Using Path.home() and Path.cwd()\n",
    "3. Using the / operator"
   ]
  },
  {
   "cell_type": "code",
   "execution_count": 2,
   "id": "path-from-string",
   "metadata": {},
   "outputs": [
    {
     "data": {
      "text/plain": [
       "WindowsPath('/Users/David/Documents/hello.txt')"
      ]
     },
     "execution_count": 2,
     "metadata": {},
     "output_type": "execute_result"
    }
   ],
   "source": [
    "# From string (macOS/Linux style)\n",
    "path = pathlib.Path(\"/Users/David/Documents/hello.txt\")\n",
    "path"
   ]
  },
  {
   "cell_type": "code",
   "execution_count": 3,
   "id": "windows-path",
   "metadata": {},
   "outputs": [
    {
     "data": {
      "text/plain": [
       "WindowsPath('C:/Users/David/Desktop/hello.txt')"
      ]
     },
     "execution_count": 3,
     "metadata": {},
     "output_type": "execute_result"
    }
   ],
   "source": [
    "# Windows paths (use forward slashes or raw strings)\n",
    "path = pathlib.Path(\"C:/Users/David/Desktop/hello.txt\")\n",
    "path"
   ]
  },
  {
   "cell_type": "markdown",
   "id": "special-directories",
   "metadata": {},
   "source": [
    "### 🏠 Special Directories\n",
    "- Home directory: `Path.home()`\n",
    "- Current working directory: `Path.cwd()`"
   ]
  },
  {
   "cell_type": "code",
   "execution_count": 5,
   "id": "home-directory",
   "metadata": {},
   "outputs": [],
   "source": [
    "# uncomment to see your home directory\n",
    "# home = pathlib.Path.home()\n",
    "# home"
   ]
  },
  {
   "cell_type": "code",
   "execution_count": 7,
   "id": "cwd-directory",
   "metadata": {},
   "outputs": [],
   "source": [
    "# uncomment to see your current working directory\n",
    "# cwd = pathlib.Path.cwd()\n",
    "# cwd"
   ]
  },
  {
   "cell_type": "markdown",
   "id": "path-operator",
   "metadata": {},
   "source": [
    "###  Using the / Operator\n",
    "Extend paths with subdirectories or filenames"
   ]
  },
  {
   "cell_type": "code",
   "execution_count": 12,
   "id": "path-extension",
   "metadata": {},
   "outputs": [],
   "source": [
    "# create a new path by combining paths\n",
    "# uncomment to create a new path on your Desktop\n",
    "#home = pathlib.Path.home()\n",
    "#new_path = home / \"Desktop\" / \"hello.text\"\n",
    "#new_path"
   ]
  },
  {
   "cell_type": "markdown",
   "id": "absolute-relative",
   "metadata": {},
   "source": [
    "### 📍 Absolute vs. Relative Paths\n",
    "- Absolute paths start from root\n",
    "- Relative paths are relative to current directory"
   ]
  },
  {
   "cell_type": "code",
   "execution_count": null,
   "id": "relative-path",
   "metadata": {},
   "outputs": [
    {
     "data": {
      "text/plain": [
       "False"
      ]
     },
     "execution_count": 7,
     "metadata": {},
     "output_type": "execute_result"
    }
   ],
   "source": [
    "# check if a path is absolute\n",
    "relative_path = pathlib.Path(\"Photos/image.jpg\")\n",
    "relative_path.is_absolute()"
   ]
  },
  {
   "cell_type": "markdown",
   "id": "path-components",
   "metadata": {},
   "source": [
    "### 🔍 Accessing Path Components\n",
    "Extract parts of file paths:"
   ]
  },
  {
   "cell_type": "code",
   "execution_count": 15,
   "id": "path-decomposition",
   "metadata": {},
   "outputs": [],
   "source": [
    "# uncomment to see path components\n",
    "#path = pathlib.Path.home()/\"Desktop\" / \"hello.txt\"\n",
    "#print(f\"Path: {path}\")\n",
    "#print(f\"Parent: {path.parent}\")\n",
    "#print(f\"Name: {path.name}\")\n",
    "#print(f\"Stem: {path.stem}\")\n",
    "#print(f\"Suffix: {path.suffix}\")\n",
    "#print(f\"Anchor: {path.anchor}\")"
   ]
  },
  {
   "cell_type": "markdown",
   "id": "path-existence",
   "metadata": {},
   "source": [
    "### 🔎 Checking Path Existence\n",
    "Verify if paths exist and their type:"
   ]
  },
  {
   "cell_type": "code",
   "execution_count": 16,
   "id": "path-checking",
   "metadata": {},
   "outputs": [
    {
     "name": "stdout",
     "output_type": "stream",
     "text": [
      "Exists: False\n",
      "Is file: False\n",
      "Is directory: False\n"
     ]
    }
   ],
   "source": [
    "path = pathlib.Path.home()/\"Desktop\" / \"hello.txt\"\n",
    "print(f\"Exists: {path.exists()}\")\n",
    "print(f\"Is file: {path.is_file()}\")\n",
    "print(f\"Is directory: {path.is_dir()}\")"
   ]
  },
  {
   "cell_type": "markdown",
   "id": "practice-exercise",
   "metadata": {},
   "source": [
    "## 🧪 Practice Exercise\n",
    "1. Create a Path object to my_file.txt in my_folder/ in home directory\n",
    "2. Check if the path exists\n",
    "3. Print the filename\n",
    "4. Print the parent directory name"
   ]
  },
  {
   "cell_type": "code",
   "execution_count": 17,
   "id": "practice-solution",
   "metadata": {},
   "outputs": [],
   "source": [
    "# Solution\n",
    "#file_path = pathlib.Path.home() / \"Desktop\" / \"my_folder\" / \"my_file.txt\"\n",
    "#file_path.parent.mkdir(parents=True, exist_ok=True)  # Ensure directory exists\n",
    "#file_path.touch(exist_ok=True)  # Create file if it doesn't exist\n",
    "\n",
    "#print(f\"File path: {file_path}\")\n",
    "#print(f\"Exists: {file_path.exists()}\")\n",
    "#print(f\"Parent directory: {file_path.parent.name}\")"
   ]
  },
  {
   "cell_type": "markdown",
   "id": "filesystem-operations",
   "metadata": {},
   "source": [
    "##  11.3 Common File System Operations\n",
    "\n",
    "### 📂 Creating Directories"
   ]
  },
  {
   "cell_type": "code",
   "execution_count": 11,
   "id": "create-directory",
   "metadata": {},
   "outputs": [
    {
     "name": "stdout",
     "output_type": "stream",
     "text": [
      "Directory created: True\n",
      "Is directory: True\n"
     ]
    }
   ],
   "source": [
    "new_dir = pathlib.Path.home() / \"Desktop\" / \"new_directory\"\n",
    "new_dir.mkdir(exist_ok=True)  # Won't error if exists\n",
    "print(f\"Directory created: {new_dir.exists()}\")\n",
    "print(f\"Is directory: {new_dir.is_dir()}\")"
   ]
  },
  {
   "cell_type": "markdown",
   "id": "nested-directories",
   "metadata": {},
   "source": [
    "### 📁 Creating Nested Directories\n",
    "Use `parents=True` to create parent directories"
   ]
  },
  {
   "cell_type": "code",
   "execution_count": 12,
   "id": "nested-dirs",
   "metadata": {},
   "outputs": [
    {
     "name": "stdout",
     "output_type": "stream",
     "text": [
      "Nested directory created: True\n"
     ]
    }
   ],
   "source": [
    "nested_dir = new_dir / \"folder_a\" / \"folder_b\"\n",
    "nested_dir.mkdir(parents=True, exist_ok=True)\n",
    "print(f\"Nested directory created: {nested_dir.exists()}\")"
   ]
  },
  {
   "cell_type": "markdown",
   "id": "creating-files",
   "metadata": {},
   "source": [
    "### 📄 Creating Files\n",
    "Use `touch()` to create empty files"
   ]
  },
  {
   "cell_type": "code",
   "execution_count": 13,
   "id": "create-file",
   "metadata": {},
   "outputs": [
    {
     "name": "stdout",
     "output_type": "stream",
     "text": [
      "File created: True\n"
     ]
    }
   ],
   "source": [
    "file_path = new_dir / \"file1.txt\"\n",
    "file_path.touch()\n",
    "print(f\"File created: {file_path.exists()}\")"
   ]
  },
  {
   "cell_type": "markdown",
   "id": "iterating-directory",
   "metadata": {},
   "source": [
    "### 🔍 Iterating Over Directory Contents\n",
    "List all items in a directory with `iterdir()`"
   ]
  },
  {
   "cell_type": "code",
   "execution_count": 14,
   "id": "directory-listing",
   "metadata": {},
   "outputs": [
    {
     "name": "stdout",
     "output_type": "stream",
     "text": [
      "Contents of new_directory:\n",
      "- file1.txt (file)\n",
      "- folder_a (directory)\n",
      "- folder_c (directory)\n"
     ]
    }
   ],
   "source": [
    "print(\"Contents of new_directory:\")\n",
    "for item in new_dir.iterdir():\n",
    "    item_type = \"file\" if item.is_file() else \"directory\"\n",
    "    print(f\"- {item.name} ({item_type})\")"
   ]
  },
  {
   "cell_type": "markdown",
   "id": "file-search",
   "metadata": {},
   "source": [
    "### 🔎 Searching for Files\n",
    "Use `glob()` to find files matching patterns:"
   ]
  },
  {
   "cell_type": "code",
   "execution_count": 15,
   "id": "glob-search",
   "metadata": {},
   "outputs": [
    {
     "name": "stdout",
     "output_type": "stream",
     "text": [
      "Text files: ['file1.txt']\n",
      "All .py files: ['program1.py', 'program2.py']\n"
     ]
    }
   ],
   "source": [
    "# Create some test files\n",
    "files_to_create = [\n",
    "    new_dir / \"program1.py\",\n",
    "    new_dir / \"program2.py\",\n",
    "    new_dir / \"folder_a\" / \"program3.py\",\n",
    "    new_dir / \"image1.jpg\"\n",
    "]\n",
    "\n",
    "for file_path in files_to_create:\n",
    "    file_path.parent.mkdir(parents=True, exist_ok=True)\n",
    "    file_path.touch(exist_ok=True)\n",
    "\n",
    "# Search with glob patterns\n",
    "text_files = list(new_dir.glob(\"*.txt\"))\n",
    "py_files = list(new_dir.glob(\"*.py\"))\n",
    "\n",
    "print(f\"Text files: {[f.name for f in text_files]}\")\n",
    "print(f\"All .py files: {[f.name for f in py_files]}\")"
   ]
  },
  {
   "cell_type": "markdown",
   "id": "recursive-search",
   "metadata": {},
   "source": [
    "### 🔄 Recursive Search\n",
    "Use `**` for recursive pattern matching:"
   ]
  },
  {
   "cell_type": "code",
   "execution_count": 16,
   "id": "recursive-glob",
   "metadata": {},
   "outputs": [
    {
     "name": "stdout",
     "output_type": "stream",
     "text": [
      "All Python files: ['program1.py', 'program2.py', 'program3.py']\n"
     ]
    }
   ],
   "source": [
    "all_py_files = list(new_dir.glob(\"**/*.py\"))\n",
    "print(f\"All Python files: {[f.name for f in all_py_files]}\")"
   ]
  },
  {
   "cell_type": "markdown",
   "id": "file-operations",
   "metadata": {},
   "source": [
    "### ✂️ Moving and Deleting Files\n",
    "Use `replace()` to move and `unlink()` to delete files"
   ]
  },
  {
   "cell_type": "code",
   "execution_count": 17,
   "id": "move-delete",
   "metadata": {},
   "outputs": [
    {
     "name": "stdout",
     "output_type": "stream",
     "text": [
      "File moved successfully: True\n",
      "File deleted: False\n"
     ]
    }
   ],
   "source": [
    "# Move a file\n",
    "source = new_dir / \"file1.txt\"\n",
    "destination = new_dir / \"folder_a\" / \"file1.txt\"\n",
    "source.replace(destination)\n",
    "print(f\"File moved successfully: {destination.exists()}\")\n",
    "\n",
    "# Delete a file\n",
    "destination.unlink()\n",
    "print(f\"File deleted: {not destination.exists()}\")"
   ]
  },
  {
   "cell_type": "markdown",
   "id": "challenge-section",
   "metadata": {},
   "source": [
    "## Challenge: Move All Image Files\n",
    "\n",
    "Create a script that:\n",
    "1. Creates a practice_files/documents/ directory with sample files\n",
    "2. Creates an images/ directory\n",
    "3. Moves all image files (.png, .gif, .jpg) to images/"
   ]
  },
  {
   "cell_type": "code",
   "execution_count": null,
   "id": "challenge-solution",
   "metadata": {},
   "outputs": [
    {
     "name": "stdout",
     "output_type": "stream",
     "text": [
      "Created practice files structure\n",
      "Moved 4 image files to images directory\n"
     ]
    }
   ],
   "source": [
    "# Solution to challenge\n",
    "from pathlib import Path\n",
    "import shutil\n",
    "\n",
    "# Create practice directory structure\n",
    "practice_dir = Path.home() / \"Desktop\" / \"practice_files\"\n",
    "documents_dir = practice_dir / \"documents\"\n",
    "images_dir = practice_dir / \"images\"\n",
    "\n",
    "# Create directories\n",
    "documents_dir.mkdir(parents=True, exist_ok=True)\n",
    "images_dir.mkdir(exist_ok=True)\n",
    "\n",
    "# Create sample files\n",
    "sample_files = [\n",
    "    documents_dir / \"image1.png\",\n",
    "    documents_dir / \"image2.gif\",\n",
    "    documents_dir / \"image3.png\",\n",
    "    documents_dir / \"image4.jpg\",\n",
    "    documents_dir / \"document1.txt\",\n",
    "    documents_dir / \"data.csv\"\n",
    "]\n",
    "\n",
    "for file_path in sample_files:\n",
    "    file_path.touch(exist_ok=True)\n",
    "\n",
    "# Move image files\n",
    "image_extensions = ('.png', '.gif', '.jpg')\n",
    "moved_count = 0\n",
    "\n",
    "for file_path in documents_dir.iterdir():\n",
    "    if file_path.suffix.lower() in image_extensions:\n",
    "        destination = images_dir / file_path.name\n",
    "        file_path.replace(destination)\n",
    "        moved_count += 1\n",
    "\n",
    "print(\"Created practice files structure\")\n",
    "print(f\"Moved {moved_count} image files to images directory\")"
   ]
  },
  {
   "cell_type": "markdown",
   "id": "file-io",
   "metadata": {},
   "source": [
    "##  11.4 Reading and Writing Files\n",
    "\n",
    "### 📝 Text File Basics\n",
    "- Files are sequences of bytes\n",
    "- Character encoding determines how bytes represent text\n",
    "- Common encodings: UTF-8, ASCII, UTF-16\n",
    "- Line endings differ between OS: \\n (Unix) vs \\r\\n (Windows)"
   ]
  },
  {
   "cell_type": "markdown",
   "id": "opening-files",
   "metadata": {},
   "source": [
    "### 🔓 Opening Files\n",
    "Two ways to open files:\n",
    "1. Using `pathlib.Path.open()`\n",
    "2. Using built-in `open()` function"
   ]
  },
  {
   "cell_type": "code",
   "execution_count": 19,
   "id": "file-opening",
   "metadata": {},
   "outputs": [
    {
     "name": "stdout",
     "output_type": "stream",
     "text": [
      "File content: Hello from Line 1\n",
      "Hello from Line 2\n",
      "Hello from Line 3\n",
      "\n"
     ]
    }
   ],
   "source": [
    "# Create a sample file\n",
    "sample_text = \"\"\"Hello from Line 1\n",
    "Hello from Line 2\n",
    "Hello from Line 3\"\"\"\n",
    "\n",
    "test_file = Path.home() / \"Desktop\" / \"test_file.txt\"\n",
    "test_file.write_text(sample_text, encoding=\"utf-8\")\n",
    "\n",
    "# Read using pathlib\n",
    "content = test_file.read_text(encoding=\"utf-8\")\n",
    "print(f\"File content: {content}\")"
   ]
  },
  {
   "cell_type": "markdown",
   "id": "with-statement",
   "metadata": {},
   "source": [
    "### 🔒 The with Statement\n",
    "Best practice for file handling - automatically closes files"
   ]
  },
  {
   "cell_type": "code",
   "execution_count": 20,
   "id": "with-example",
   "metadata": {},
   "outputs": [
    {
     "name": "stdout",
     "output_type": "stream",
     "text": [
      "Read with 'with' statement: Hello from Line 1\n",
      "Hello from Line 2\n",
      "Hello from Line 3\n",
      "\n"
     ]
    }
   ],
   "source": [
    "# Using with statement (recommended)\n",
    "with test_file.open(mode=\"r\", encoding=\"utf-8\") as file:\n",
    "    content = file.read()\n",
    "    print(f\"Read with 'with' statement: {content}\")"
   ]
  },
  {
   "cell_type": "markdown",
   "id": "writing-files",
   "metadata": {},
   "source": [
    "### 📝 Writing to Files\n",
    "Different modes:\n",
    "- 'w' - overwrite file\n",
    "- 'a' - append to file\n",
    "- 'x' - create new file (fails if exists)"
   ]
  },
  {
   "cell_type": "code",
   "execution_count": 21,
   "id": "writing-examples",
   "metadata": {},
   "outputs": [
    {
     "name": "stdout",
     "output_type": "stream",
     "text": [
      "After writing: New content\n",
      "After appending: New content\n",
      "Appended content\n"
     ]
    }
   ],
   "source": [
    "# Writing to a file (overwrites)\n",
    "with test_file.open(mode=\"w\", encoding=\"utf-8\") as file:\n",
    "    file.write(\"New content\\n\")\n",
    "\n",
    "print(f\"After writing: {test_file.read_text()}\")\n",
    "\n",
    "# Appending to a file\n",
    "with test_file.open(mode=\"a\", encoding=\"utf-8\") as file:\n",
    "    file.write(\"Appended content\\n\")\n",
    "\n",
    "print(f\"After appending: {test_file.read_text()}\")"
   ]
  },
  {
   "cell_type": "markdown",
   "id": "csv-section",
   "metadata": {},
   "source": [
    "## 📊 11.5 Read and Write CSV Data\n",
    "\n",
    "### 📋 CSV Basics\n",
    "- Comma-Separated Values format\n",
    "- Simple text format for tabular data\n",
    "- Each line represents a row\n",
    "- Values separated by commas"
   ]
  },
  {
   "cell_type": "code",
   "execution_count": 19,
   "id": "csv-import",
   "metadata": {},
   "outputs": [],
   "source": [
    "import csv"
   ]
  },
  {
   "cell_type": "markdown",
   "id": "writing-csv",
   "metadata": {},
   "source": [
    "### 📝 Writing CSV Files"
   ]
  },
  {
   "cell_type": "code",
   "execution_count": 22,
   "id": "csv-writing",
   "metadata": {},
   "outputs": [
    {
     "name": "stdout",
     "output_type": "stream",
     "text": [
      "CSV file created\n"
     ]
    }
   ],
   "source": [
    "import csv \n",
    "from pathlib import Path \n",
    "# Sample data\n",
    "daily_temperatures = [\n",
    "    [68, 65, 68, 70, 74, 72],\n",
    "    [67, 67, 70, 72, 72, 70],\n",
    "    [68, 70, 74, 76, 74, 73]\n",
    "]\n",
    "\n",
    "# Write CSV file\n",
    "csv_path = Path.home() / \"Desktop\" / \"temperatures.csv\"\n",
    "\n",
    "with csv_path.open(mode=\"w\", encoding=\"utf-8\", newline=\"\") as file:\n",
    "    writer = csv.writer(file) # csvwriter object\n",
    "    writer.writerows(daily_temperatures)\n",
    "\n",
    "print(\"CSV file created\")"
   ]
  },
  {
   "cell_type": "markdown",
   "id": "reading-csv",
   "metadata": {},
   "source": [
    "### 📖 Reading CSV Files"
   ]
  },
  {
   "cell_type": "code",
   "execution_count": 24,
   "id": "csv-reading",
   "metadata": {},
   "outputs": [
    {
     "name": "stdout",
     "output_type": "stream",
     "text": [
      "CSV content:\n",
      "['68', '65', '68', '70', '74', '72']\n",
      "['67', '67', '70', '72', '72', '70']\n",
      "['68', '70', '74', '76', '74', '73']\n"
     ]
    }
   ],
   "source": [
    "# Read CSV file\n",
    "with csv_path.open(mode=\"r\", encoding=\"utf-8\", newline=\"\") as file:\n",
    "    reader = csv.reader(file)\n",
    "    print(\"CSV content:\")\n",
    "    for row in reader:\n",
    "        print(row)"
   ]
  },
  {
   "cell_type": "markdown",
   "id": "csv-dict",
   "metadata": {},
   "source": [
    "### 📋 CSV with Headers\n",
    "Using DictReader and DictWriter for header-based CSV files"
   ]
  },
  {
   "cell_type": "code",
   "execution_count": 25,
   "id": "dict-csv",
   "metadata": {},
   "outputs": [
    {
     "name": "stdout",
     "output_type": "stream",
     "text": [
      "Employees:\n",
      "{'name': 'Lee', 'department': 'Operations', 'salary': '75000.00'}\n",
      "{'name': 'Jane', 'department': 'Engineering', 'salary': '85000.00'}\n",
      "{'name': 'Diego', 'department': 'Sales', 'salary': '80000.00'}\n"
     ]
    }
   ],
   "source": [
    "# Sample data with headers\n",
    "employees = [\n",
    "    {\"name\": \"Lee\", \"department\": \"Operations\", \"salary\": 75000.00},\n",
    "    {\"name\": \"Jane\", \"department\": \"Engineering\", \"salary\": 85000.00},\n",
    "    {\"name\": \"Diego\", \"department\": \"Sales\", \"salary\": 80000.00}\n",
    "]\n",
    "\n",
    "# Write CSV with headers\n",
    "employees_path = Path.home() / \"Desktop\" / \"employees.csv\"\n",
    "\n",
    "with employees_path.open(mode=\"w\", encoding=\"utf-8\", newline=\"\") as file:\n",
    "    writer = csv.DictWriter(file, fieldnames=[\"name\", \"department\", \"salary\"])\n",
    "    writer.writeheader()\n",
    "    writer.writerows(employees)\n",
    "\n",
    "# Read CSV with headers\n",
    "with employees_path.open(mode=\"r\", encoding=\"utf-8\", newline=\"\") as file:\n",
    "    reader = csv.DictReader(file)\n",
    "    print(\"Employees:\")\n",
    "    for row in reader:\n",
    "        print(row)"
   ]
  },
  {
   "cell_type": "markdown",
   "id": "final-challenge",
   "metadata": {},
   "source": [
    "## 🏆 Challenge: Create a High Scores List\n",
    "\n",
    "Process scores.csv to create high_scores.csv with each player's highest score"
   ]
  },
  {
   "cell_type": "code",
   "execution_count": 23,
   "id": "high-scores-solution",
   "metadata": {},
   "outputs": [
    {
     "name": "stdout",
     "output_type": "stream",
     "text": [
      "High scores calculated and saved \n",
      "High scores:\n",
      "name,high_score\n",
      "LLCoolDave,27\n",
      "red,12\n",
      "tom123,26\n",
      "\n"
     ]
    }
   ],
   "source": [
    "# Solution to high scores challenge\n",
    "from collections import defaultdict\n",
    "\n",
    "# Create sample scores file\n",
    "scores_data = \"\"\"name,score\n",
    "LLCoolDave,23\n",
    "LLCoolDave,27\n",
    "red,12\n",
    "LLCoolDave,26\n",
    "tom123,26\n",
    "red,12\n",
    "tom123,25\n",
    "LLCoolDave,27\"\"\"\n",
    "\n",
    "scores_path = Path.home() / \"Desktop\" / \"scores.csv\"\n",
    "scores_path.write_text(scores_data, encoding=\"utf-8\")\n",
    "\n",
    "# Calculate high scores\n",
    "high_scores = defaultdict(int)\n",
    "\n",
    "with scores_path.open(mode=\"r\", encoding=\"utf-8\", newline=\"\") as file:\n",
    "    reader = csv.DictReader(file)\n",
    "    for row in reader:\n",
    "        player = row[\"name\"]\n",
    "        score = int(row[\"score\"])\n",
    "        if score > high_scores[player]:\n",
    "            high_scores[player] = score\n",
    "\n",
    "# Write high scores\n",
    "high_scores_path = Path.home() / \"Desktop\" / \"high_scores.csv\"\n",
    "\n",
    "with high_scores_path.open(mode=\"w\", encoding=\"utf-8\", newline=\"\") as file:\n",
    "    writer = csv.writer(file)\n",
    "    writer.writerow([\"name\", \"high_score\"])\n",
    "    for player, score in high_scores.items():\n",
    "        writer.writerow([player, score])\n",
    "\n",
    "print(\"High scores calculated and saved \")\n",
    "print(\"High scores:\")\n",
    "print(high_scores_path.read_text())"
   ]
  },
  {
   "cell_type": "markdown",
   "id": "summary",
   "metadata": {},
   "source": [
    "### 📝 Summary\n",
    "\n",
    "### ✅ Key Concepts Covered:\n",
    "- File system anatomy and paths\n",
    "- Using pathlib for path operations\n",
    "- Creating files and directories\n",
    "- Searching and iterating through files\n",
    "- Reading and writing text files\n",
    "- Working with CSV data\n",
    "- Practical file management challenges\n",
    "\n",
    "\n",
    "\n",
    "Remember: Always use the `with` statement for file operations to ensure proper resource management!"
   ]
  }
 ],
 "metadata": {
  "kernelspec": {
   "display_name": "Python 3",
   "language": "python",
   "name": "python3"
  },
  "language_info": {
   "codemirror_mode": {
    "name": "ipython",
    "version": 3
   },
   "file_extension": ".py",
   "mimetype": "text/x-python",
   "name": "python",
   "nbconvert_exporter": "python",
   "pygments_lexer": "ipython3",
   "version": "3.13.3"
  }
 },
 "nbformat": 4,
 "nbformat_minor": 5
}
