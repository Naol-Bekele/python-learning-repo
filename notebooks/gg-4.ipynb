{
 "cells": [
  {
   "cell_type": "markdown",
   "id": "94ee26fa",
   "metadata": {},
   "source": [
    "# 🐍 Chapter 8: Object-Oriented Programming (OOP) \n",
    "\n",
    "## 🤔 What is OOP?\n",
    "\n",
    "OOP, or object-oriented programming, is a method of structuring a program by bundling related properties and behaviors into individual objects.\n",
    "\n",
    "#### Factory Analogy\n",
    "Think of a program as a factory assembly line:\n",
    "- At each step, a system component processes materials\n",
    "- Transforms raw materials into finished products\n",
    "- Objects contain data (like raw materials) and behavior (like assembly actions)\n",
    "\n",
    "### 🎯 Why Use OOP?\n",
    "- Better code organization\n",
    "- Code reusability\n",
    "- Easier maintenance\n",
    "- Modeling real-world concepts"
   ]
  },
  {
   "cell_type": "markdown",
   "id": "505d85aa",
   "metadata": {},
   "source": [
    "# 🔧 8.1 Define a Class\n",
    "\n",
    "###  Primitive Data Structures\n",
    "Primitive data structures like numbers, strings, and lists represent simple information:\n",
    "- Cost of an apple 🍎\n",
    "- Name of a poem 📝\n",
    "- Favorite colors 🌈\n",
    "\n",
    "### Complex Data Representation\n",
    "What if you want to represent something more complex, like a person with multiple attributes?"
   ]
  },
  {
   "cell_type": "code",
   "execution_count": 1,
   "id": "d438a33a",
   "metadata": {},
   "outputs": [
    {
     "data": {
      "text/plain": [
       "'James Kirk'"
      ]
     },
     "execution_count": 1,
     "metadata": {},
     "output_type": "execute_result"
    }
   ],
   "source": [
    "# ❌ Without OOP - using lists to represent complex data\n",
    "kirk = [\"James Kirk\", 34, \"Captain\", 2265]\n",
    "spock = [\"Spock\", 35, \"Science Officer\", 2254]\n",
    "mccoy = [\"Leonard McCoy\", \"Chief Medical Officer\", 2266]\n",
    "\n",
    "# 🚫 Problem: Hard to remember what each index represents\n",
    "kirk[0]  # What does index 0 represent again?"
   ]
  },
  {
   "cell_type": "markdown",
   "id": "62f81e6a",
   "metadata": {},
   "source": [
    "##  Classes vs Instances\n",
    "\n",
    "### 📋 Classes\n",
    "- Blueprints for creating objects\n",
    "- Define methods (behaviors and actions)\n",
    "- Don't contain actual data\n",
    "- Like a form or questionnaire 📝\n",
    "\n",
    "### 🎭 Instances\n",
    "- Objects built from a class\n",
    "- Contain real data\n",
    "- Like a filled-out form with information ✍️\n",
    "- Many instances can be created from a single class"
   ]
  },
  {
   "cell_type": "markdown",
   "id": "73699a47",
   "metadata": {},
   "source": [
    "# 📝 How to Define a Class\n",
    "\n",
    "##  Python Class Naming Convention\n",
    "- Use `CapitalizedWords` notation\n",
    "- Example: `JackRussellTerrier`\n",
    "\n",
    "##  Basic Class Structure\n",
    "- Start with `class` keyword\n",
    "- Followed by class name and colon\n",
    "- Indented code is part of class body"
   ]
  },
  {
   "cell_type": "code",
   "execution_count": 2,
   "id": "9b75b495",
   "metadata": {},
   "outputs": [],
   "source": [
    "# 🐶 Simplest class definition\n",
    "class Dog:\n",
    "    pass  # Empty class using pass statement"
   ]
  },
  {
   "cell_type": "markdown",
   "id": "8b3ba193",
   "metadata": {},
   "source": [
    "## 🏗️ The __init__() Method\n",
    "\n",
    "### 🎯 Purpose\n",
    "- Initializes new objects\n",
    "- Sets initial state with values\n",
    "- Always takes `self` as first parameter\n",
    "\n",
    "### 🔧 How It Works\n",
    "- Automatically called when creating new instance\n",
    "`self` refers to the instance being created"
   ]
  },
  {
   "cell_type": "code",
   "execution_count": 3,
   "id": "47b5cbbd",
   "metadata": {},
   "outputs": [],
   "source": [
    "# 🐶 Dog class with __init__ method\n",
    "class Dog:\n",
    "    def __init__(self, name, age):\n",
    "        self.name = name  # 🏷️ Instance attribute\n",
    "        self.age = age    # 📅 Instance attribute"
   ]
  },
  {
   "cell_type": "markdown",
   "id": "d4d7c8ec",
   "metadata": {},
   "source": [
    "# 🏷️ Instance vs Class Attributes\n",
    "\n",
    "### 📍 Instance Attributes\n",
    "- Defined in `__init__()`\n",
    "- Specific to each instance\n",
    "- Values vary between instances\n",
    "\n",
    "### 🏛️ Class Attributes\n",
    "- Defined directly under class name\n",
    "- Same value for all instances\n",
    "- Assigned initial value"
   ]
  },
  {
   "cell_type": "code",
   "execution_count": 4,
   "id": "81de3b3b",
   "metadata": {},
   "outputs": [],
   "source": [
    "# 🐶 Dog class with both instance and class attributes\n",
    "class Dog:\n",
    "    # 🏛️ Class attribute\n",
    "    species = \"Canis familiaris\"\n",
    "    \n",
    "    def __init__(self, name, age):\n",
    "        # 📍 Instance attributes\n",
    "        self.name = name\n",
    "        self.age = age"
   ]
  },
  {
   "cell_type": "markdown",
   "id": "a8f8a935",
   "metadata": {},
   "source": [
    "# 💡 When to Use Each Attribute Type\n",
    "\n",
    "### 🏛️ Class Attributes\n",
    "- Properties with same value for all instances\n",
    "- Example: All dogs have same species\n",
    "\n",
    "### 📍 Instance Attributes\n",
    "- Properties that vary between instances\n",
    "- Example: Each dog has different name and age"
   ]
  },
  {
   "cell_type": "markdown",
   "id": "de6061ca",
   "metadata": {},
   "source": [
    "# 8.2 Instantiate an Object\n",
    "\n",
    "## 🏗️ Creating Objects\n",
    "- Creating a new object from a class\n",
    "- Called \"instantiating an object\"\n",
    "- Use class name followed by parentheses"
   ]
  },
  {
   "cell_type": "code",
   "execution_count": 5,
   "id": "428cd2d1",
   "metadata": {},
   "outputs": [
    {
     "data": {
      "text/plain": [
       "<__main__.Dog at 0x1abb9480590>"
      ]
     },
     "execution_count": 5,
     "metadata": {},
     "output_type": "execute_result"
    }
   ],
   "source": [
    "# 🐶 Creating a Dog instance\n",
    "class Dog:\n",
    "    pass\n",
    "\n",
    "Dog()  # Creates a new Dog object"
   ]
  },
  {
   "cell_type": "markdown",
   "id": "03357b97",
   "metadata": {},
   "source": [
    "## 🧠 Memory Addresses\n",
    "\n",
    "###  What Are They?\n",
    "- Funny-looking strings of letters and numbers\n",
    "- Indicate where object is stored in memory\n",
    "- Each instance has unique address\n",
    "\n",
    "#### 🔍 Example\n",
    "- `0x106702d30` is a memory address\n",
    "- Your addresses will be different"
   ]
  },
  {
   "cell_type": "code",
   "execution_count": 6,
   "id": "eaf5a47e",
   "metadata": {},
   "outputs": [
    {
     "data": {
      "text/plain": [
       "<__main__.Dog at 0x1abb9401450>"
      ]
     },
     "execution_count": 6,
     "metadata": {},
     "output_type": "execute_result"
    }
   ],
   "source": [
    "# 🐶 Creating another Dog instance\n",
    "Dog()  # Different memory address"
   ]
  },
  {
   "cell_type": "code",
   "execution_count": 7,
   "id": "285ac0ea",
   "metadata": {},
   "outputs": [
    {
     "data": {
      "text/plain": [
       "False"
      ]
     },
     "execution_count": 7,
     "metadata": {},
     "output_type": "execute_result"
    }
   ],
   "source": [
    "# 🐶 Two different instances\n",
    "a = Dog()\n",
    "b = Dog()\n",
    "a == b  # ❌ Different objects in memory"
   ]
  },
  {
   "cell_type": "markdown",
   "id": "dc884a7d",
   "metadata": {},
   "source": [
    "# 🐶 Class and Instance Attributes in Action\n",
    "\n",
    "### Creating a Complete Dog Class"
   ]
  },
  {
   "cell_type": "code",
   "execution_count": 8,
   "id": "e4ab3568",
   "metadata": {},
   "outputs": [],
   "source": [
    "# 🐶 Complete Dog class\n",
    "class Dog:\n",
    "    species = \"Canis familiaris\"  # 🏛️ Class attribute\n",
    "    \n",
    "    def __init__(self, name, age):\n",
    "        self.name = name  # 📍 Instance attribute\n",
    "        self.age = age    # 📍 Instance attribute"
   ]
  },
  {
   "cell_type": "markdown",
   "id": "226ea8e7",
   "metadata": {},
   "source": [
    "## ❌ Common Error: Missing Arguments\n",
    "\n",
    "### 🚫 Forgetting Required Parameters\n",
    "- `__init__()` requires name and age\n",
    "- Forgetting them causes TypeError"
   ]
  },
  {
   "cell_type": "code",
   "execution_count": 9,
   "id": "4bde5ac4",
   "metadata": {},
   "outputs": [
    {
     "ename": "TypeError",
     "evalue": "Dog.__init__() missing 2 required positional arguments: 'name' and 'age'",
     "output_type": "error",
     "traceback": [
      "\u001b[31m---------------------------------------------------------------------------\u001b[39m",
      "\u001b[31mTypeError\u001b[39m                                 Traceback (most recent call last)",
      "\u001b[36mCell\u001b[39m\u001b[36m \u001b[39m\u001b[32mIn[9]\u001b[39m\u001b[32m, line 1\u001b[39m\n\u001b[32m----> \u001b[39m\u001b[32m1\u001b[39m \u001b[43mDog\u001b[49m\u001b[43m(\u001b[49m\u001b[43m)\u001b[49m  \u001b[38;5;66;03m# ❌ Missing arguments\u001b[39;00m\n",
      "\u001b[31mTypeError\u001b[39m: Dog.__init__() missing 2 required positional arguments: 'name' and 'age'"
     ]
    }
   ],
   "source": [
    "Dog()  # ❌ Missing arguments"
   ]
  },
  {
   "cell_type": "code",
   "execution_count": 10,
   "id": "254b58f0",
   "metadata": {},
   "outputs": [],
   "source": [
    "# ✅ Correct way to create Dog instances\n",
    "buddy = Dog(\"Buddy\", 9)    # 🐶 9-year-old dog named Buddy\n",
    "miles = Dog(\"Miles\", 4)    # 🐶 4-year-old dog named Miles"
   ]
  },
  {
   "cell_type": "markdown",
   "id": "9cb75b41",
   "metadata": {},
   "source": [
    "## 🔍 Accessing Attributes\n",
    "\n",
    "### 📍 Dot Notation\n",
    "- Use dot notation to access attributes\n",
    "- `object.attribute` syntax"
   ]
  },
  {
   "cell_type": "code",
   "execution_count": 11,
   "id": "a97969cd",
   "metadata": {},
   "outputs": [
    {
     "name": "stdout",
     "output_type": "stream",
     "text": [
      "Buddy\n",
      "9\n",
      "Miles\n",
      "4\n"
     ]
    }
   ],
   "source": [
    "# 🔍 Accessing instance attributes\n",
    "print(buddy.name)  # 🏷️ Access name attribute\n",
    "print(buddy.age)   # 📅 Access age attribute\n",
    "print(miles.name)  # 🏷️ Access name attribute\n",
    "print(miles.age)   # 📅 Access age attribute"
   ]
  },
  {
   "cell_type": "code",
   "execution_count": 12,
   "id": "90f64316",
   "metadata": {},
   "outputs": [
    {
     "data": {
      "text/plain": [
       "'Canis familiaris'"
      ]
     },
     "execution_count": 12,
     "metadata": {},
     "output_type": "execute_result"
    }
   ],
   "source": [
    "# 🔍 Accessing class attribute\n",
    "buddy.species  # 🏛️ Same for all Dog instances"
   ]
  },
  {
   "cell_type": "markdown",
   "id": "1f135d08",
   "metadata": {},
   "source": [
    "## ✏️ Modifying Attributes\n",
    "\n",
    "###  Dynamic Changes\n",
    "- Attributes can be changed after creation\n",
    "- Custom objects are mutable by default\n",
    "- Similar to lists and dictionaries"
   ]
  },
  {
   "cell_type": "code",
   "execution_count": 13,
   "id": "cbd58daf",
   "metadata": {},
   "outputs": [
    {
     "data": {
      "text/plain": [
       "10"
      ]
     },
     "execution_count": 13,
     "metadata": {},
     "output_type": "execute_result"
    }
   ],
   "source": [
    "# ✏️ Modifying age attribute\n",
    "buddy.age = 10  # 📅 Change Buddy's age\n",
    "buddy.age       # 🔍 Check new age"
   ]
  },
  {
   "cell_type": "code",
   "execution_count": 14,
   "id": "14105ad9",
   "metadata": {},
   "outputs": [
    {
     "data": {
      "text/plain": [
       "'Felis silvestris'"
      ]
     },
     "execution_count": 14,
     "metadata": {},
     "output_type": "execute_result"
    }
   ],
   "source": [
    "# ✏️ Even class attributes can be modified per instance\n",
    "miles.species = \"Felis silvestris\"  # 🐱 Wait, is Miles a cat?\n",
    "miles.species"
   ]
  },
  {
   "cell_type": "markdown",
   "id": "6aa45b35",
   "metadata": {},
   "source": [
    "# 📋 8.3 Instance Methods\n",
    "\n",
    "## What Are They?\n",
    "- Functions defined inside a class\n",
    "- Can only be called from class instances\n",
    "- First parameter is always `self`\n",
    "- Define behaviors and actions"
   ]
  },
  {
   "cell_type": "code",
   "execution_count": 15,
   "id": "716bea52",
   "metadata": {},
   "outputs": [],
   "source": [
    "# 🐶 Dog class with instance methods\n",
    "class Dog:\n",
    "    species = \"Canis familiaris\"\n",
    "    \n",
    "    def __init__(self, name, age):\n",
    "        self.name = name\n",
    "        self.age = age\n",
    "    \n",
    "    # 📋 Instance method\n",
    "    def description(self):\n",
    "        return f\"{self.name} is {self.age} years old\"\n",
    "    \n",
    "    # 📋 Another instance method\n",
    "    def speak(self, sound):\n",
    "        return f\"{self.name} says {sound}\""
   ]
  },
  {
   "cell_type": "markdown",
   "id": "00f957f5",
   "metadata": {},
   "source": [
    "## 🐕 Using Instance Methods\n",
    "\n",
    "### 📋 Method Overview\n",
    "1. `.description()` - Returns string with name and age\n",
    "2. `.speak()` - Returns string with name and sound"
   ]
  },
  {
   "cell_type": "code",
   "execution_count": 16,
   "id": "3138d24d",
   "metadata": {},
   "outputs": [
    {
     "name": "stdout",
     "output_type": "stream",
     "text": [
      "Miles is 4 years old\n",
      "Miles says Woof!\n",
      "Miles says Grrr!\n"
     ]
    }
   ],
   "source": [
    "# 🐕 Using instance methods\n",
    "miles = Dog(\"Miles\", 4)\n",
    "\n",
    "print(miles.description())  # 📋 Get description\n",
    "print(miles.speak(\"Woof!\"))  # 🗣️ Make sound\n",
    "print(miles.speak(\"Grrr!\"))  # 🗣️ Make different sound"
   ]
  },
  {
   "cell_type": "markdown",
   "id": "bf35f95e",
   "metadata": {},
   "source": [
    "## 🖨️ The __str__() Method\n",
    "\n",
    "### 🎯 Purpose\n",
    "- Special method for string representation\n",
    "- Called when using `print()` on object\n",
    "- Overrides default memory address display"
   ]
  },
  {
   "cell_type": "code",
   "execution_count": 17,
   "id": "3f575284",
   "metadata": {},
   "outputs": [
    {
     "name": "stdout",
     "output_type": "stream",
     "text": [
      "Buddy is 5 years old\n"
     ]
    }
   ],
   "source": [
    "# 🐶 Dog class with __str__ method\n",
    "class Dog:\n",
    "    species = \"Canis familiaris\"\n",
    "    \n",
    "    def __init__(self, name, age):\n",
    "        self.name = name\n",
    "        self.age = age\n",
    "    \n",
    "    # 🖨️ Replace .description() with __str__()\n",
    "    def __str__(self):\n",
    "        return f\"{self.name} is {self.age} years old\"\n",
    "\n",
    "# 🐕 Using __str__ method\n",
    "buddy = Dog(\"Buddy\", 5)\n",
    "print(buddy)  # 🖨️ Automatically calls __str__()"
   ]
  },
  {
   "cell_type": "markdown",
   "id": "8bd503f2",
   "metadata": {},
   "source": [
    "## ⚡ Dunder Methods\n",
    "\n",
    "###  What Are They?\n",
    "- Methods with double underscores\n",
    "- Examples: `__init__()`, `__str__()`\n",
    "- Special methods with specific purposes"
   ]
  },
  {
   "cell_type": "markdown",
   "id": "a5b1bcf7",
   "metadata": {},
   "source": [
    "# 🧬 8.4 Inherit From Other Classes\n",
    "\n",
    "### 📚 What is Inheritance?\n",
    "- Process where one class takes attributes/methods of another\n",
    "- Newly formed classes: child classes 👶\n",
    "- Original classes: parent classes 👴\n",
    "\n",
    "### 🎯 Key Concepts\n",
    "- Child classes can override/extend parent attributes/methods\n",
    "- Child classes inherit all parent attributes/methods\n",
    "- Similar to genetic inheritance 🧬"
   ]
  },
  {
   "cell_type": "markdown",
   "id": "d02c1ead",
   "metadata": {},
   "source": [
    "##  Dog Park Example\n",
    "\n",
    "### 🐕 Modeling Different Breeds\n",
    "- Many dogs of different breeds at park\n",
    "- All engaging in various dog behaviors\n",
    "- Need to distinguish dogs by breed"
   ]
  },
  {
   "cell_type": "code",
   "execution_count": 18,
   "id": "1cf33024",
   "metadata": {},
   "outputs": [],
   "source": [
    "# 🐶 Dog class with breed attribute\n",
    "class Dog:\n",
    "    species = \"Canis familiaris\"\n",
    "    \n",
    "    def __init__(self, name, age, breed):\n",
    "        self.name = name\n",
    "        self.age = age\n",
    "        self.breed = breed\n",
    "\n",
    "# 🐕 Creating different breed instances\n",
    "miles = Dog(\"Miles\", 4, \"Jack Russell Terrier\")\n",
    "buddy = Dog(\"Buddy\", 9, \"Dachshund\")\n",
    "jack = Dog(\"Jack\", 3, \"Bulldog\")\n",
    "jim = Dog(\"Jim\", 5, \"Bulldog\")"
   ]
  },
  {
   "cell_type": "markdown",
   "id": "ef91e8e1",
   "metadata": {},
   "source": [
    "## 👨‍👦 Parent Classes vs Child Classes\n",
    "\n",
    "###  Creating Child Classes\n",
    "- Create child classes for specific breeds\n",
    "- Inherit from parent Dog class\n",
    "- Can add breed-specific behaviors"
   ]
  },
  {
   "cell_type": "code",
   "execution_count": 19,
   "id": "a235eac4",
   "metadata": {},
   "outputs": [],
   "source": [
    "# 🐶 Parent Dog class\n",
    "class Dog:\n",
    "    species = \"Canis familiaris\"\n",
    "    \n",
    "    def __init__(self, name, age):\n",
    "        self.name = name\n",
    "        self.age = age\n",
    "    \n",
    "    def __str__(self):\n",
    "        return f\"{self.name} is {self.age} years old\"\n",
    "    \n",
    "    def speak(self, sound):\n",
    "        return f\"{self.name} says {sound}\""
   ]
  },
  {
   "cell_type": "code",
   "execution_count": 20,
   "id": "c5d84bcc",
   "metadata": {},
   "outputs": [
    {
     "name": "stdout",
     "output_type": "stream",
     "text": [
      "Canis familiaris\n",
      "Buddy\n",
      "Jack is 3 years old\n",
      "Jim says Woof\n"
     ]
    }
   ],
   "source": [
    "# 🐕 Creating child classes\n",
    "class JackRussellTerrier(Dog):\n",
    "    pass  # Empty child class\n",
    "\n",
    "class Dachshund(Dog):\n",
    "    pass  # Empty child class\n",
    "\n",
    "class Bulldog(Dog):\n",
    "    pass  # Empty child class\n",
    "\n",
    "# 🐕 Creating instances of child classes\n",
    "miles = JackRussellTerrier(\"Miles\", 4)\n",
    "buddy = Dachshund(\"Buddy\", 9)\n",
    "jack = Bulldog(\"Jack\", 3)\n",
    "jim = Bulldog(\"Jim\", 5)\n",
    "\n",
    "# 🔍 Testing inheritance\n",
    "print(miles.species)  # 🏛️ Inherited class attribute\n",
    "print(buddy.name)     # 🏷️ Inherited instance attribute\n",
    "print(jack)          # 🖨️ Inherited __str__ method\n",
    "print(jim.speak(\"Woof\"))  # 🗣️ Inherited speak method"
   ]
  },
  {
   "cell_type": "code",
   "execution_count": 21,
   "id": "1f2364d7",
   "metadata": {},
   "outputs": [
    {
     "name": "stdout",
     "output_type": "stream",
     "text": [
      "<class '__main__.JackRussellTerrier'>\n",
      "True\n"
     ]
    }
   ],
   "source": [
    "# 🔍 Checking object types\n",
    "print(type(miles))  # 📋 Type of miles\n",
    "print(isinstance(miles, Dog))  # ✅ Is miles a Dog instance?"
   ]
  },
  {
   "cell_type": "code",
   "execution_count": 22,
   "id": "9e486e32",
   "metadata": {},
   "outputs": [
    {
     "data": {
      "text/plain": [
       "False"
      ]
     },
     "execution_count": 22,
     "metadata": {},
     "output_type": "execute_result"
    }
   ],
   "source": [
    "# 🔍 Checking specific breed inheritance\n",
    "isinstance(miles, Bulldog)  # ❌ Miles is not a Bulldog"
   ]
  },
  {
   "cell_type": "markdown",
   "id": "23d074c8",
   "metadata": {},
   "source": [
    "## 🎵 Extending Parent Class Functionality\n",
    "\n",
    "###  Method Overriding\n",
    "- Different breeds have different barks\n",
    "Override `.speak()` method in child classes\n",
    "- Define method with same name in child class"
   ]
  },
  {
   "cell_type": "code",
   "execution_count": 22,
   "id": "26950b62",
   "metadata": {},
   "outputs": [
    {
     "data": {
      "text/plain": [
       "'Miles says Arf'"
      ]
     },
     "execution_count": 22,
     "metadata": {},
     "output_type": "execute_result"
    }
   ],
   "source": [
    "# 🐕 JackRussellTerrier with custom speak method\n",
    "class JackRussellTerrier(Dog):\n",
    "    def speak(self, sound=\"Arf\"):\n",
    "        return f\"{self.name} says {sound}\"\n",
    "\n",
    "# 🐕 Using overridden method\n",
    "miles = JackRussellTerrier(\"Miles\", 4)\n",
    "miles.speak()  # 🗣️ Default sound for Jack Russell"
   ]
  },
  {
   "cell_type": "code",
   "execution_count": 23,
   "id": "c7f8a75d",
   "metadata": {},
   "outputs": [
    {
     "data": {
      "text/plain": [
       "'Miles says Grrr'"
      ]
     },
     "execution_count": 23,
     "metadata": {},
     "output_type": "execute_result"
    }
   ],
   "source": [
    "# 🐕 Custom sound still works\n",
    "miles.speak(\"Grrr\")  # 🗣️ Custom sound"
   ]
  },
  {
   "cell_type": "markdown",
   "id": "36d1b62a",
   "metadata": {},
   "source": [
    "## 🔄 Using super()\n",
    "\n",
    "### 🎯 Purpose\n",
    "- Access parent class from child class\n",
    "- Maintain parent functionality while extending\n",
    "- Traverses entire class hierarchy"
   ]
  },
  {
   "cell_type": "code",
   "execution_count": 24,
   "id": "99316397",
   "metadata": {},
   "outputs": [
    {
     "data": {
      "text/plain": [
       "'Miles barks: Arf'"
      ]
     },
     "execution_count": 24,
     "metadata": {},
     "output_type": "execute_result"
    }
   ],
   "source": [
    "# 🐕 Using super() to extend parent functionality\n",
    "class Dog:\n",
    "    species = \"Canis familiaris\"\n",
    "    \n",
    "    def __init__(self, name, age):\n",
    "        self.name = name\n",
    "        self.age = age\n",
    "    \n",
    "    def __str__(self):\n",
    "        return f\"{self.name} is {self.age} years old\"\n",
    "    \n",
    "    def speak(self, sound):\n",
    "        return f\"{self.name} barks: {sound}\"\n",
    "\n",
    "class JackRussellTerrier(Dog):\n",
    "    def speak(self, sound=\"Arf\"):\n",
    "        return super().speak(sound)  # 🔄 Use parent speak method\n",
    "\n",
    "# 🐕 Testing super() functionality\n",
    "miles = JackRussellTerrier(\"Miles\", 4)\n",
    "miles.speak()  # 🗣️ Uses parent format with child default"
   ]
  },
  {
   "cell_type": "markdown",
   "id": "6b6cf4d2",
   "metadata": {},
   "source": [
    "## ⚠️ Real-World Class Hierarchies\n",
    "\n",
    "###  Complexity Warning\n",
    "- Real-world class hierarchies can get complicated\n",
    "- `super()` traverses entire hierarchy for matches\n",
    "- Can have surprising results if not careful"
   ]
  },
  {
   "cell_type": "markdown",
   "id": "1821ea39",
   "metadata": {},
   "source": [
    "##  Programming Challenge: Rectangle and Square\n",
    "\n",
    "### 🎯 Requirements\n",
    "1. Write a `Rectangle` class with `.length` and `.width` attributes\n",
    "2. Add `.area()` method that returns area (length × width)\n",
    "3. Write a `Square` class that inherits from `Rectangle`\n",
    "4. Instantiate with single `.side_length` attribute\n",
    "5. Test with `.side_length` of 4 (area should be 16)\n",
    "6. Set `.width` to 5 and check area (should be 20)"
   ]
  },
  {
   "cell_type": "code",
   "execution_count": 25,
   "id": "85abaa23",
   "metadata": {},
   "outputs": [
    {
     "name": "stdout",
     "output_type": "stream",
     "text": [
      "Rectangle area: 12\n",
      "Square area: 16\n",
      "Modified square area: 20\n"
     ]
    }
   ],
   "source": [
    "# 📐 Rectangle and Square classes\n",
    "class Rectangle:\n",
    "    def __init__(self, length, width):\n",
    "        self.length = length\n",
    "        self.width = width\n",
    "    \n",
    "    def area(self):\n",
    "        return self.length * self.width\n",
    "\n",
    "class Square(Rectangle):\n",
    "    def __init__(self, side_length):\n",
    "        # ✅ Initialize parent with same length and width\n",
    "        super().__init__(side_length, side_length)\n",
    "        self.side_length = side_length\n",
    "\n",
    "# 📐 Testing the classes\n",
    "rectangle = Rectangle(3, 4)\n",
    "print(f\"Rectangle area: {rectangle.area()}\")  # 📏 Should be 12\n",
    "\n",
    "square = Square(4)\n",
    "print(f\"Square area: {square.area()}\")  # 📏 Should be 16\n",
    "\n",
    "# ⚠️ Changing width demonstrates inheritance isn't always perfect\n",
    "square.width = 5\n",
    "print(f\"Modified square area: {square.area()}\")  # 📏 Should be 20"
   ]
  },
  {
   "cell_type": "markdown",
   "id": "93e3d7b6",
   "metadata": {},
   "source": [
    "## 🏡 Challenge: Model a Farm\n",
    "\n",
    "### 🎯 Requirements\n",
    "1. At least four classes: parent `Animal` + three child classes\n",
    "2. Each class should have attributes and methods\n",
    "3. Model behaviors: walking, running, eating, sleeping, etc.\n",
    "4. Keep it simple, utilize inheritance\n",
    "5. Output details about animals and their behaviors"
   ]
  },
  {
   "cell_type": "code",
   "execution_count": 26,
   "id": "733fdc23",
   "metadata": {},
   "outputs": [
    {
     "name": "stdout",
     "output_type": "stream",
     "text": [
      "🐄 Daisy says Moo!\n",
      "🐄 Daisy is eating grass\n",
      "🐖 Babe says Oink!\n",
      "🐖 Babe is rolling in mud\n",
      "🐑 Wooly says Baa!\n",
      "🐑 Wooly is growing wool\n",
      "🐄 Daisy is sleeping\n",
      "🐖 Babe is eating slop\n",
      "🐑 Wooly is running\n"
     ]
    }
   ],
   "source": [
    "# 🏡 Farm animal classes\n",
    "class Animal:\n",
    "    def __init__(self, name, age):\n",
    "        self.name = name\n",
    "        self.age = age\n",
    "    \n",
    "    def speak(self, sound):\n",
    "        return f\"{self.name} says {sound}\"\n",
    "    \n",
    "    def eat(self, food):\n",
    "        return f\"{self.name} is eating {food}\"\n",
    "    \n",
    "    def sleep(self):\n",
    "        return f\"{self.name} is sleeping\"\n",
    "\n",
    "class Cow(Animal):\n",
    "    def __init__(self, name, age):\n",
    "        super().__init__(name, age)\n",
    "    \n",
    "    def speak(self):\n",
    "        return super().speak(\"Moo!\")\n",
    "    \n",
    "    def eat(self):\n",
    "        return super().eat(\"grass\")\n",
    "\n",
    "class Pig(Animal):\n",
    "    def __init__(self, name, age):\n",
    "        super().__init__(name, age)\n",
    "    \n",
    "    def speak(self):\n",
    "        return super().speak(\"Oink!\")\n",
    "    \n",
    "    def eat(self):\n",
    "        return super().eat(\"slop\")\n",
    "    \n",
    "    def roll_in_mud(self):\n",
    "        return f\"{self.name} is rolling in mud\"\n",
    "\n",
    "class Sheep(Animal):\n",
    "    def __init__(self, name, age):\n",
    "        super().__init__(name, age)\n",
    "    \n",
    "    def speak(self):\n",
    "        return super().speak(\"Baa!\")\n",
    "    \n",
    "    def eat(self):\n",
    "        return super().eat(\"grass\")\n",
    "    \n",
    "    def grow_wool(self):\n",
    "        return f\"{self.name} is growing wool\"\n",
    "    \n",
    "    def run(self):\n",
    "        return f\"{self.name} is running\"\n",
    "\n",
    "# 🏡 Creating farm animals\n",
    "daisy = Cow(\"Daisy\", 3)\n",
    "babe = Pig(\"Babe\", 2)\n",
    "wooly = Sheep(\"Wooly\", 4)\n",
    "\n",
    "# 🏡 Testing farm animals\n",
    "print(f\"🐄 {daisy.speak()}\")\n",
    "print(f\"🐄 {daisy.eat()}\")\n",
    "\n",
    "print(f\"🐖 {babe.speak()}\")\n",
    "print(f\"🐖 {babe.roll_in_mud()}\")\n",
    "\n",
    "print(f\"🐑 {wooly.speak()}\")\n",
    "print(f\"🐑 {wooly.grow_wool()}\")\n",
    "\n",
    "# 🏡 More behaviors\n",
    "print(f\"🐄 {daisy.sleep()}\")\n",
    "print(f\"🐖 {babe.eat()}\")\n",
    "print(f\"🐑 {wooly.run()}\")"
   ]
  },
  {
   "cell_type": "markdown",
   "id": "14e5c29f",
   "metadata": {},
   "source": [
    "# 📦 Chapter 9: Modules and Packages\n",
    "\n",
    "##  What Are Modules and Packages?\n",
    "- Modules: Python files containing reusable code\n",
    "- Packages: Collections of related modules\n",
    "- Help organize large projects\n",
    "\n",
    "##  Advantages\n",
    "1. Simplicity: Focused on single problems\n",
    "2. Maintainability: Small files better than large ones\n",
    "3. Reusability: Reduce duplicate code\n",
    "4. Scoping: Own namespaces prevent conflicts"
   ]
  },
  {
   "cell_type": "markdown",
   "id": "d54ece91",
   "metadata": {},
   "source": [
    "## 📝 9.1 Working With Modules\n",
    "\n",
    "##  Creating Modules\n",
    "- Every Python file is a module\n",
    "Create new file with `.py` extension\n",
    "- Contains functions, classes, variables"
   ]
  },
  {
   "cell_type": "markdown",
   "id": "633d1a41",
   "metadata": {},
   "source": [
    "## 🔄 Importing Modules\n",
    "\n",
    "### 🎯 Basic Import\n",
    "- Use `import` statement\n",
    "- Access contents with `module.name` syntax\n",
    "- Modules have their own namespaces"
   ]
  },
  {
   "cell_type": "code",
   "execution_count": 28,
   "id": "1710a27d",
   "metadata": {},
   "outputs": [
    {
     "ename": "ModuleNotFoundError",
     "evalue": "No module named 'adder'",
     "output_type": "error",
     "traceback": [
      "\u001b[0;31m---------------------------------------------------------------------------\u001b[0m",
      "\u001b[0;31mModuleNotFoundError\u001b[0m                       Traceback (most recent call last)",
      "\u001b[0;32m<ipython-input-28-8d671d4290a1>\u001b[0m in \u001b[0;36m<module>\u001b[0;34m\u001b[0m\n      \u001b[0;32m----> 1\u001b[0;31m \u001b[0;32mimport\u001b[0m \u001b[0madder\u001b[0m  \u001b[0;31m# ❌ ModuleNotFoundError without adder.py\u001b[0m\u001b[0;34m\u001b[0m\u001b[0;34m\u001b[0m\u001b[0m\n      \u001b[0m",
      "\u001b[0;31mModuleNotFoundError\u001b[0m: No module named 'adder'"
     ]
    }
   ],
   "source": [
    "import adder  # ❌ ModuleNotFoundError without adder.py"
   ]
  },
  {
   "cell_type": "markdown",
   "id": "88f76329",
   "metadata": {},
   "source": [
    "##  Import Statement Variations\n",
    "\n",
    "### 🎯 Three Ways to Import\n",
    "1. `import module` - Import entire namespace\n",
    "2. `import module as alias` - Import with different name\n",
    "3. `from module import name` - Import specific names"
   ]
  },
  {
   "cell_type": "code",
   "execution_count": 29,
   "id": "0a75d7e1",
   "metadata": {},
   "outputs": [
    {
     "ename": "ModuleNotFoundError",
     "evalue": "No module named 'adder'",
     "output_type": "error",
     "traceback": [
      "\u001b[0;31m---------------------------------------------------------------------------\u001b[0m",
      "\u001b[0;31mModuleNotFoundError\u001b[0m                       Traceback (most recent call last)",
      "\u001b[0;32m<ipython-input-29-0a75d7e1>",
      "\u001b[0;32m----> 1\u001b[0;31m \u001b[0;32mimport\u001b[0m \u001b[0madder\u001b[0m  \u001b[0;31m# ❌ Still won't work without adder.py\u001b[0m\u001b[0;34m\u001b[0m\u001b[0;34m\u001b[0m\u001b[0m\n      \u001b[0m",
      "\u001b[0;31mModuleNotFoundError\u001b[0m: No module named 'adder'"
     ]
    }
   ],
   "source": [
    "import adder  # ❌ Still won't work without adder.py"
   ]
  },
  {
   "cell_type": "markdown",
   "id": "ce941214",
   "metadata": {},
   "source": [
    "# 📦 9.2 Working With Packages\n",
    "\n",
    "##  What Are Packages?\n",
    "- Folders containing related modules\n",
    "- Must contain `__init__.py` file\n",
    "- Group related functionality"
   ]
  },
  {
   "cell_type": "markdown",
   "id": "456391e3",
   "metadata": {},
   "source": [
    "## Package Structure\n",
    "\n",
    "### 📁 Example Structure\n",
    "```\n",
    "mypackage/\n",
    "    __init__.py\n",
    "    module1.py\n",
    "    module2.py\n",
    "    mysubpackage/\n",
    "        __init__.py\n",
    "        module3.py\n",
    "```"
   ]
  },
  {
   "cell_type": "markdown",
   "id": "09e8f154",
   "metadata": {},
   "source": [
    "## 🔄 Importing From Packages\n",
    "\n",
    "### 🎯 Four Ways to Import\n",
    "1. `import package`\n",
    "2. `import package as alias`\n",
    "3. `from package import module`\n",
    "4. `from package import module as alias`"
   ]
  },
  {
   "cell_type": "markdown",
   "id": "a3453d06",
   "metadata": {},
   "source": [
    "# 📦 Chapter 10: Installing Packages With pip\n",
    "\n",
    "##  What is pip?\n",
    "- Python's package manager\n",
    "- Installs and manages third-party packages\n",
    "- Included with Python since version 3.4"
   ]
  },
  {
   "cell_type": "markdown",
   "id": "3ddfd4b8",
   "metadata": {},
   "source": [
    "##  10.1 Installing Packages With pip\n",
    "\n",
    "### 🎯 Basic pip Commands\n",
    "- `pip install package` - Install a package\n",
    "- `pip list` - List installed packages\n",
    "- `pip show package` - Show package details\n",
    "- `pip uninstall package` - Remove a package"
   ]
  },
  {
   "cell_type": "markdown",
   "id": "26889bab",
   "metadata": {},
   "source": [
    "## 🔄 Version Control\n",
    "\n",
    "###  Version Specifiers\n",
    "- `pip install package>=2.0` - Install version 2.0 or greater\n",
    "- `pip install package==2.1.0` - Install exact version\n",
    "- `pip install package<3.0` - Install version less than 3.0"
   ]
  },
  {
   "cell_type": "markdown",
   "id": "eb426992",
   "metadata": {},
   "source": [
    "# 📚 Summary\n",
    "\n",
    "## 🎯 Key Concepts Covered\n",
    "1. Object-Oriented Programming (OOP)\n",
    "2. Classes and Instances\n",
    "3. Inheritance and Polymorphism\n",
    "4. Modules and Packages\n",
    "5. Installing Packages with pip\n"
   ]
  }
 ],
 "metadata": {
  "kernelspec": {
   "display_name": "Python 3",
   "language": "python",
   "name": "python3"
  },
  "language_info": {
   "codemirror_mode": {
    "name": "ipython",
    "version": 3
   },
   "file_extension": ".py",
   "mimetype": "text/x-python",
   "name": "python",
   "nbconvert_exporter": "python",
   "pygments_lexer": "ipython3",
   "version": "3.13.3"
  }
 },
 "nbformat": 4,
 "nbformat_minor": 5
}
