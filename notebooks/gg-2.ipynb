{
 "cells": [
  {
   "cell_type": "markdown",
   "id": "d6e90161",
   "metadata": {},
   "source": [
    "# Chapter 4: Functions and Loops 🔄\n",
    "## Mastering Functions, Loops, and Control Flow"
   ]
  },
  {
   "cell_type": "markdown",
   "id": "0db08a32",
   "metadata": {},
   "source": [
    "## 4.1 What Is a Function? 🤔\n",
    "\n",
    "### Functions Are Values 📊\n",
    "In Python, functions are **first-class objects** - they can be assigned to variables, passed as arguments, and returned from other functions!\n",
    "\n",
    "This means you can treat functions just like any other value in Python."
   ]
  },
  {
   "cell_type": "code",
   "execution_count": 1,
   "id": "566f7805",
   "metadata": {},
   "outputs": [
    {
     "name": "stdout",
     "output_type": "stream",
     "text": [
      "Type of len function: <class 'builtin_function_or_method'>\n",
      "Value of len function: <built-in function len>\n",
      "Using variable to call function: 5\n"
     ]
    }
   ],
   "source": [
    "# Built-in function example\n",
    "print(\"Type of len function:\", type(len))\n",
    "print(\"Value of len function:\", len)\n",
    "\n",
    "# Assigning function to a variable\n",
    "length_function = len\n",
    "print(\"Using variable to call function:\", length_function(\"hello\"))"
   ]
  },
  {
   "cell_type": "markdown",
   "id": "b08494b8",
   "metadata": {},
   "source": [
    "### Function Arguments 🎯\n",
    "An argument is a value that gets passed to the function as input.\n",
    "\n",
    "- Some functions can be called with no arguments\n",
    "- Some can take as many arguments as you like\n",
    "- `len()` requires exactly one argument"
   ]
  },
  {
   "cell_type": "code",
   "execution_count": 4,
   "id": "67a86316",
   "metadata": {},
   "outputs": [
    {
     "name": "stdout",
     "output_type": "stream",
     "text": [
      "Length of 'four': 4\n",
      "Maximum of 3, 7, 2 is : 7\n",
      "Random float: 0.715644383451587\n"
     ]
    }
   ],
   "source": [
    "import random\n",
    "# Function with one argument\n",
    "print(\"Length of 'four':\", len(\"four\"))\n",
    "\n",
    "# Function with multiple arguments\n",
    "print(\"Maximum of 3, 7, 2 is :\", max(3, 7, 2))\n",
    "\n",
    "# Function with no arguments\n",
    "print(\"Random float:\", random.random())"
   ]
  },
  {
   "cell_type": "markdown",
   "id": "8188c44d",
   "metadata": {},
   "source": [
    "# Other types of function\n",
    "### A lambda function \n",
    "A lambda function in Python is a small, anonymous function that can have any number of arguments but only one expression. You create them using the lambda keyword. They are most commonly used for short, simple operations where defining a full function with def would be overly complicated\n",
    "\n",
    "`lambda arguments: expression`"
   ]
  },
  {
   "cell_type": "code",
   "execution_count": 5,
   "id": "700f56c1",
   "metadata": {},
   "outputs": [
    {
     "name": "stdout",
     "output_type": "stream",
     "text": [
      "8\n"
     ]
    }
   ],
   "source": [
    "# A simple lambda function to add two numbers\n",
    "add_two = lambda x, y: x + y\n",
    "\n",
    "# Call the lambda function and print the result\n",
    "print(add_two(5, 3))"
   ]
  },
  {
   "cell_type": "markdown",
   "id": "4480ab8f",
   "metadata": {},
   "source": [
    "### Using with map(): Transforming Data\n",
    "The map() function applies a given function to all items in an iterable (like a list) and returns a map object. Lambda functions are perfect for this, as you can transform each item in a list with a single line of code."
   ]
  },
  {
   "cell_type": "code",
   "execution_count": 6,
   "id": "afba18a8",
   "metadata": {},
   "outputs": [
    {
     "name": "stdout",
     "output_type": "stream",
     "text": [
      "[1, 4, 9, 16, 25]\n"
     ]
    }
   ],
   "source": [
    "# A list of numbers\n",
    "numbers = [1, 2, 3, 4, 5]\n",
    "\n",
    "# Use a lambda function with map() to square each number\n",
    "squared_numbers = list(map(lambda x: x**2, numbers))\n",
    "\n",
    "# Print the new list\n",
    "print(squared_numbers)"
   ]
  },
  {
   "cell_type": "markdown",
   "id": "d8a143f9",
   "metadata": {},
   "source": [
    "### Using with filter(): Selecting Data\n",
    "The filter() function constructs an iterator from elements of an iterable for which a function returns true. Lambda functions make it easy to specify your filtering condition."
   ]
  },
  {
   "cell_type": "code",
   "execution_count": 8,
   "id": "a9ad54bd",
   "metadata": {},
   "outputs": [
    {
     "name": "stdout",
     "output_type": "stream",
     "text": [
      "[2, 4, 6, 8, 10]\n"
     ]
    }
   ],
   "source": [
    "# A list of numbers\n",
    "numbers = [1, 2, 3, 4, 5, 6, 7, 8, 9, 10]\n",
    "\n",
    "# Use a lambda function with filter() to get even numbers\n",
    "even_numbers = list(filter(lambda x: x % 2 == 0, numbers))\n",
    "\n",
    "# Print the filtered list\n",
    "print(even_numbers)"
   ]
  },
  {
   "cell_type": "markdown",
   "id": "b89fb14b",
   "metadata": {},
   "source": [
    "### Using with sorted(): Sorting Complex Data\n",
    "When you want to sort a list of tuples or dictionaries based on a specific element, you use the key argument of the sorted() function with a lambda function."
   ]
  },
  {
   "cell_type": "code",
   "execution_count": 7,
   "id": "782b90f3",
   "metadata": {},
   "outputs": [
    {
     "name": "stdout",
     "output_type": "stream",
     "text": [
      "[('Bob', 25), ('Alice', 30), ('Charlie', 35)]\n"
     ]
    }
   ],
   "source": [
    "# A list of tuples, where each tuple contains (name, age)\n",
    "people = [('Alice', 30), ('Bob', 25), ('Charlie', 35)]\n",
    "\n",
    "# Use a lambda function to sort the list by age (the second element)\n",
    "# `person: person[1]` tells the sorted() function to look at the second item in each tuple\n",
    "sorted_people_by_age = sorted(people, key=lambda person: person[1])\n",
    "\n",
    "# Print the sorted list\n",
    "print(sorted_people_by_age)"
   ]
  },
  {
   "cell_type": "markdown",
   "id": "22f8c75a",
   "metadata": {},
   "source": [
    "### Functions Can Have Side Effects ⚡\n",
    "Some functions perform actions (side effects) rather than just calculating values:\n",
    "- Printing to the console\n",
    "- Modifying data structures\n",
    "- Changing global variables\n",
    "- Writing to files\n",
    "\n",
    "These functions often return `None` instead of a meaningful value."
   ]
  },
  {
   "cell_type": "code",
   "execution_count": 9,
   "id": "475bcc18",
   "metadata": {},
   "outputs": [
    {
     "name": "stdout",
     "output_type": "stream",
     "text": [
      "What do I return?\n",
      "Return value: None\n",
      "Type: <class 'NoneType'>\n"
     ]
    }
   ],
   "source": [
    "# print() returns None but has a side effect (displaying text)\n",
    "return_value = print(\"What do I return?\")\n",
    "print(f\"Return value: {return_value}\")\n",
    "print(f\"Type: {type(return_value)}\")"
   ]
  },
  {
   "cell_type": "markdown",
   "id": "7496bf71",
   "metadata": {},
   "source": [
    "## 4.2 Write Your Own Functions 🛠️"
   ]
  },
  {
   "cell_type": "markdown",
   "id": "76f0385a",
   "metadata": {},
   "source": [
    "### Function Anatomy 🧬\n",
    "Every function has two main parts:\n",
    "- **Function signature**: Defines the name and parameters\n",
    "- **Function body**: Contains the executable code\n",
    "\n",
    "Parameters are placeholders for actual values that will be provided when the function is called."
   ]
  },
  {
   "cell_type": "code",
   "execution_count": 10,
   "id": "4f043227",
   "metadata": {},
   "outputs": [
    {
     "name": "stdout",
     "output_type": "stream",
     "text": [
      "2 × 4 = 8\n"
     ]
    }
   ],
   "source": [
    "def multiply(x, y):\n",
    "    \"\"\"\n",
    "    Multiply two numbers and return the product.\n",
    "    \n",
    "    Parameters:\n",
    "    x (int/float): First number\n",
    "    y (int/float): Second number\n",
    "    \n",
    "    Returns:\n",
    "    int/float: Product of x and y\n",
    "    \"\"\"\n",
    "    product = x * y\n",
    "    return product\n",
    "\n",
    "# Function call with arguments\n",
    "result = multiply(2, 4)\n",
    "print(f\"2 × 4 = {result}\")"
   ]
  },
  {
   "cell_type": "markdown",
   "id": "d8c10080",
   "metadata": {},
   "source": [
    "### Functions Without Return Statements 🔄\n",
    "Functions without explicit `return` statements automatically return `None`:\n",
    "- Useful for functions that perform actions rather than calculations\n",
    "- Often used for input/output operations"
   ]
  },
  {
   "cell_type": "code",
   "execution_count": 11,
   "id": "994b5473",
   "metadata": {},
   "outputs": [
    {
     "name": "stdout",
     "output_type": "stream",
     "text": [
      "Hello, Alice! 👋\n",
      "Function returned: None\n"
     ]
    }
   ],
   "source": [
    "def greet(name):\n",
    "    \"\"\"Print a personalized greeting message.\"\"\"\n",
    "    print(f\"Hello, {name}! 👋\")\n",
    "\n",
    "return_value = greet(\"Alice\")\n",
    "print(f\"Function returned: {return_value}\")"
   ]
  },
  {
   "cell_type": "markdown",
   "id": "cc137ef9",
   "metadata": {},
   "source": [
    "### Documentation Matters 📝\n",
    "Docstrings help document your functions and make them easier to use:\n",
    "- Place triple-quoted strings immediately after function definition\n",
    "- Use them to explain what the function does, its parameters, and return values\n",
    "- Access them with the `help()` function"
   ]
  },
  {
   "cell_type": "code",
   "execution_count": 12,
   "id": "7063431a",
   "metadata": {},
   "outputs": [
    {
     "name": "stdout",
     "output_type": "stream",
     "text": [
      "Help on built-in function len in module builtins:\n",
      "\n",
      "len(obj, /)\n",
      "    Return the number of items in a container.\n",
      "\n",
      "Help on function multiply in module __main__:\n",
      "\n",
      "multiply(x, y)\n",
      "    Multiply two numbers and return the product.\n",
      "\n",
      "    Parameters:\n",
      "    x (int/float): First number\n",
      "    y (int/float): Second number\n",
      "\n",
      "    Returns:\n",
      "    int/float: Product of x and y\n",
      "\n"
     ]
    }
   ],
   "source": [
    "# View documentation for built-in function\n",
    "help(len)\n",
    "\n",
    "# View documentation for our custom function\n",
    "help(multiply)"
   ]
  },
  {
   "cell_type": "markdown",
   "id": "b72d6d6f",
   "metadata": {},
   "source": [
    "## Challenge: Convert Temperatures 🌡️"
   ]
  },
  {
   "cell_type": "code",
   "execution_count": 14,
   "id": "16d9b41e",
   "metadata": {},
   "outputs": [
    {
     "name": "stdout",
     "output_type": "stream",
     "text": [
      "Celsius to Fahrenheit: 100.0°C = 212.0°F\n",
      "Fahrenheit to Celsius: 78.0°F = 25.56°C\n"
     ]
    }
   ],
   "source": [
    "def convert_cel_to_far():\n",
    "    \"\"\"Convert Celsius to Fahrenheit.\"\"\"\n",
    "    celsius = float(input(\"Enter temperature in Celsius: \"))\n",
    "    fahrenheit = round(celsius * 9/5 + 32, 2)\n",
    "    return f\"{celsius}°C = {fahrenheit}°F\"\n",
    "\n",
    "def convert_far_to_cel():\n",
    "    \"\"\"Convert Fahrenheit to Celsius.\"\"\"\n",
    "    fahrenheit = float(input(\"Enter temperature in Fahrenheit: \"))\n",
    "    celsius = round((fahrenheit - 32) * 5/9, 2)\n",
    "    return f\"{fahrenheit}°F = {celsius}°C\"\n",
    "\n",
    "# Test the functions\n",
    "print(\"Celsius to Fahrenheit:\", convert_cel_to_far())\n",
    "print(\"Fahrenheit to Celsius:\", convert_far_to_cel())"
   ]
  },
  {
   "cell_type": "markdown",
   "id": "1e740730",
   "metadata": {},
   "source": [
    "## 4.3 Run in Circles: Loops 🔄"
   ]
  },
  {
   "cell_type": "markdown",
   "id": "d49feb13",
   "metadata": {},
   "source": [
    "### While Loops ⏳\n",
    "Execute code while a condition is true\n",
    "\n",
    "There are two parts to every while loop:\n",
    "1. The while statement starts with the while keyword, followed by a test condition, and ends with a colon (:)\n",
    "2. The loop body contains the code that gets repeated at each step of the loop"
   ]
  },
  {
   "cell_type": "code",
   "execution_count": 15,
   "id": "85dfd1d2",
   "metadata": {},
   "outputs": [
    {
     "name": "stdout",
     "output_type": "stream",
     "text": [
      "1\n",
      "2\n",
      "3\n",
      "4\n",
      "Loop finished! 🎉\n"
     ]
    }
   ],
   "source": [
    "# Basic while loop\n",
    "n = 1\n",
    "while n < 5:\n",
    "    print(n)\n",
    "    n += 1  # Equivalent to n = n + 1\n",
    "\n",
    "print(\"Loop finished! 🎉\")"
   ]
  },
  {
   "cell_type": "markdown",
   "id": "80712b07",
   "metadata": {},
   "source": [
    "### Avoiding Infinite Loops 🚫∞\n",
    "If you aren't careful, you can create an infinite loop. This happens when the test condition is always true.\n",
    "\n",
    "An infinite loop never terminates. The loop body keeps repeating forever."
   ]
  },
  {
   "cell_type": "code",
   "execution_count": 16,
   "id": "3d63fd33",
   "metadata": {},
   "outputs": [
    {
     "name": "stdout",
     "output_type": "stream",
     "text": [
      "That's not a positive number!\n",
      "Thank you! You entered: 4.0\n"
     ]
    }
   ],
   "source": [
    "# Example of a loop that asks for valid input\n",
    "num = float(input(\"Enter a positive number: \"))\n",
    "while num <= 0:\n",
    "    print(\"That's not a positive number!\")\n",
    "    num = float(input(\"Enter a positive number: \"))\n",
    "\n",
    "print(f\"Thank you! You entered: {num}\")"
   ]
  },
  {
   "cell_type": "markdown",
   "id": "f8e8c79c",
   "metadata": {},
   "source": [
    "### For Loops 🔁\n",
    "A for loop executes a section of code once for each item in a collection of items.\n",
    "\n",
    "Like its while loop counterpart, the for loop has two main parts:\n",
    "1. The for statement begins with the for keyword, followed by a membership expression, and ends in a colon (:)\n",
    "2. The loop body contains the code to be executed at each step of the loop"
   ]
  },
  {
   "cell_type": "code",
   "execution_count": 17,
   "id": "975329f2",
   "metadata": {},
   "outputs": [
    {
     "name": "stdout",
     "output_type": "stream",
     "text": [
      "P\n",
      "y\n",
      "t\n",
      "Python\n",
      "Python\n",
      "Python\n",
      "10 squared is 100\n",
      "11 squared is 121\n",
      "12 squared is 144\n",
      "13 squared is 169\n",
      "14 squared is 196\n"
     ]
    }
   ],
   "source": [
    "# Iterate through string\n",
    "for letter in \"Pyt\":\n",
    "    print(letter)\n",
    "\n",
    "# Using range\n",
    "for n in range(3):\n",
    "    print(\"Python\")\n",
    "\n",
    "# Range with start and end\n",
    "for n in range(10, 15):\n",
    "    print(f\"{n} squared is {n*n}\")"
   ]
  },
  {
   "cell_type": "markdown",
   "id": "e95670f9",
   "metadata": {},
   "source": [
    "### Nested Loops 🪆\n",
    "A loop inside another loop is called a nested loop, and it comes up more often than you might expect.\n",
    "\n",
    "You can nest while loops inside for loops and vice versa. You can even nest loops more than two levels deep!\n",
    "\n",
    "Loops are a powerful tool. They tap into one of the greatest advantages that computers provide as tools for computation: the ability to repeat the same task a vast number of times without tiring and without complaining."
   ]
  },
  {
   "cell_type": "code",
   "execution_count": 18,
   "id": "fba284c3",
   "metadata": {},
   "outputs": [
    {
     "name": "stdout",
     "output_type": "stream",
     "text": [
      "n = 1, j = 4\n",
      "n = 1, j = 5\n",
      "n = 1, j = 6\n",
      "n = 2, j = 4\n",
      "n = 2, j = 5\n",
      "n = 2, j = 6\n",
      "n = 3, j = 4\n",
      "n = 3, j = 5\n",
      "n = 3, j = 6\n",
      "All combinations printed! 🎯\n"
     ]
    }
   ],
   "source": [
    "# Nested for loops\n",
    "for n in range(1, 4):\n",
    "    for j in range(4, 7):\n",
    "        print(f\"n = {n}, j = {j}\")\n",
    "\n",
    "print(\"All combinations printed! 🎯\")"
   ]
  },
  {
   "cell_type": "markdown",
   "id": "e218fb46",
   "metadata": {},
   "source": [
    "## Challenge: Track Your Investments 💰"
   ]
  },
  {
   "cell_type": "code",
   "execution_count": 19,
   "id": "0f4a2266",
   "metadata": {},
   "outputs": [
    {
     "name": "stdout",
     "output_type": "stream",
     "text": [
      "Year 1: $105.0\n",
      "Year 2: $110.25\n",
      "Year 3: $115.76\n",
      "Year 4: $121.55\n"
     ]
    }
   ],
   "source": [
    "def invest(amount, rate, years):\n",
    "    \"\"\"\n",
    "    Calculate compound interest over time.\n",
    "    \n",
    "    Parameters:\n",
    "    amount (float): Initial investment\n",
    "    rate (float): Annual interest rate\n",
    "    years (int): Number of years to invest\n",
    "    \"\"\"\n",
    "    principal = amount\n",
    "    for year in range(1, years + 1):\n",
    "        principal = principal * (1 + rate/100)\n",
    "        print(f\"Year {year}: ${round(principal, 2)}\")\n",
    "\n",
    "# Test the function\n",
    "invest(100, 5, 4)"
   ]
  },
  {
   "cell_type": "markdown",
   "id": "0ab5b125",
   "metadata": {},
   "source": [
    "## 4.4 Understand Scope in Python 🎯"
   ]
  },
  {
   "cell_type": "markdown",
   "id": "78980d2e",
   "metadata": {},
   "source": [
    "### What Is a Scope? 🔍\n",
    "When you assign a value to a variable, you're giving that value a name.\n",
    "\n",
    "Names are unique. For example, you can't assign the same name to two different numbers in the same scope."
   ]
  },
  {
   "cell_type": "code",
   "execution_count": 20,
   "id": "cebdbfd5",
   "metadata": {},
   "outputs": [
    {
     "name": "stdout",
     "output_type": "stream",
     "text": [
      "First x: 2\n",
      "Second x: 3\n"
     ]
    }
   ],
   "source": [
    "# Variable assignment\n",
    "x = 2\n",
    "print(f\"First x: {x}\")\n",
    "\n",
    "# Reassignment\n",
    "x = 3\n",
    "print(f\"Second x: {x}\")"
   ]
  },
  {
   "cell_type": "markdown",
   "id": "9f7296d6",
   "metadata": {},
   "source": [
    "### Local vs Global Scope 🌍\n",
    "The function body has what's known as a local scope, with its own set of names available to it.\n",
    "\n",
    "Code outside the function body is in the global scope."
   ]
  },
  {
   "cell_type": "code",
   "execution_count": 21,
   "id": "3740f5e8",
   "metadata": {},
   "outputs": [
    {
     "name": "stdout",
     "output_type": "stream",
     "text": [
      "Inside 'func', x has the value 2\n",
      "Outside 'func', x has the value Hello, World\n"
     ]
    }
   ],
   "source": [
    "x = \"Hello, World\"  # Global variable\n",
    "\n",
    "def func():\n",
    "    x = 2  # Local variable (different from the global x)\n",
    "    print(f\"Inside 'func', x has the value {x}\")\n",
    "\n",
    "func()\n",
    "print(f\"Outside 'func', x has the value {x}\")"
   ]
  },
  {
   "cell_type": "markdown",
   "id": "adbfce47",
   "metadata": {},
   "source": [
    "### Scope Resolution 🎯\n",
    "Scopes have a hierarchy. For example, consider the following:"
   ]
  },
  {
   "cell_type": "code",
   "execution_count": 22,
   "id": "075f8011",
   "metadata": {},
   "outputs": [
    {
     "name": "stdout",
     "output_type": "stream",
     "text": [
      "Result: 8\n"
     ]
    }
   ],
   "source": [
    "x = 5  # Global scope\n",
    "\n",
    "def outer_func():\n",
    "    y = 3  # Enclosing scope\n",
    "    \n",
    "    def inner_func():\n",
    "        z = x + y  # Accesses global and enclosing scopes\n",
    "        return z\n",
    "    \n",
    "    return inner_func()\n",
    "\n",
    "result = outer_func()\n",
    "print(f\"Result: {result}\")"
   ]
  },
  {
   "cell_type": "markdown",
   "id": "aa6417cd",
   "metadata": {},
   "source": [
    "### The LEGB Rule 📚\n",
    "A useful way to remember how Python resolves scope is with the LEGB rule:\n",
    "\n",
    "1. **Local**: The local, or current, scope could be the body of a function or the top-level scope of a code file\n",
    "2. **Enclosing**: The enclosing scope is the scope one level up from the local scope\n",
    "3. **Global**: The global scope is the topmost scope in a program\n",
    "4. **Built-in**: The built-in scope contains all the names that are built into Python\n",
    "\n",
    "Scope can be confusing, and it takes some practice for the concept to feel natural. Don't worry if it doesn't make sense at first. Just keep practicing and use the LEGB rule to help you figure things out."
   ]
  },
  {
   "cell_type": "markdown",
   "id": "51d33e5e",
   "metadata": {},
   "source": [
    "# Chapter 5: Finding and Fixing Code Bugs 🐛"
   ]
  },
  {
   "cell_type": "markdown",
   "id": "4ae7ab10",
   "metadata": {},
   "source": [
    "## Debugging Basics 🔍\n",
    "IDLE is pretty good at catching mistakes like syntax errors and runtime errors, but there's a third type of error that you may have already experienced.\n",
    "\n",
    "Logic errors occur when an otherwise valid program doesn't do what was intended.\n",
    "\n",
    "Logic errors cause unexpected behaviors called bugs. Removing bugs is called debugging, and a debugger is a tool that helps you hunt down bugs and understand why they're happening."
   ]
  },
  {
   "cell_type": "code",
   "execution_count": 23,
   "id": "77550b96",
   "metadata": {},
   "outputs": [
    {
     "name": "stdout",
     "output_type": "stream",
     "text": [
      "i is 1 and j is 2\n",
      "i is 2 and j is 4\n",
      "i is 3 and j is 6\n"
     ]
    }
   ],
   "source": [
    "# Example of a simple loop\n",
    "for i in range(1, 4):\n",
    "    j = i * 2\n",
    "    print(f\"i is {i} and j is {j}\")"
   ]
  },
  {
   "cell_type": "markdown",
   "id": "714b634c",
   "metadata": {},
   "source": [
    "# Chapter 6: Conditional Logic and Control Flow 🎮"
   ]
  },
  {
   "cell_type": "markdown",
   "id": "6dcaeca0",
   "metadata": {},
   "source": [
    "## 6.1 Compare Values 🔍\n",
    "Conditional logic is based on performing different actions depending on whether an expression, called a conditional, is true or false.\n",
    "\n",
    "This idea is not specific to computers. Humans use conditional logic all the time to make decisions.\n",
    "\n",
    "In computer programming, conditionals often take the form of a comparison between two values, such as determining if one value is greater than another or whether two values are equal.\n",
    "\n",
    "A standard set of symbols called Boolean comparators are used to make comparisons, and most of them may be familiar to you already."
   ]
  },
  {
   "cell_type": "code",
   "execution_count": 24,
   "id": "a3a9bca5",
   "metadata": {},
   "outputs": [
    {
     "name": "stdout",
     "output_type": "stream",
     "text": [
      "Type of True: <class 'bool'>\n",
      "Type of False: <class 'bool'>\n",
      "1 == 1: True\n",
      "'a' == 'a': True\n",
      "'a' == 4: False\n",
      "'a' < 'b': True\n",
      "'apple' < 'astronaut': True\n"
     ]
    }
   ],
   "source": [
    "# Boolean values\n",
    "print(f\"Type of True: {type(True)}\")\n",
    "print(f\"Type of False: {type(False)}\")\n",
    "\n",
    "# Comparison operations\n",
    "print(f\"1 == 1: {1 == 1}\")\n",
    "print(f\"'a' == 'a': {'a' == 'a'}\")\n",
    "print(f\"'a' == 4: {'a' == 4}\")\n",
    "print(f\"'a' < 'b': {'a' < 'b'}\")\n",
    "print(f\"'apple' < 'astronaut': {'apple' < 'astronaut'}\")"
   ]
  },
  {
   "cell_type": "markdown",
   "id": "86e167a4",
   "metadata": {},
   "source": [
    "## 6.2 Add Some Logic 🧠"
   ]
  },
  {
   "cell_type": "markdown",
   "id": "d67f060b",
   "metadata": {},
   "source": [
    "### Logical Operators 🔗\n",
    "Logical operators are used to construct compound logical expressions.\n",
    "\n",
    "For the most part, these have meanings similar to their meaning in the English language, although the rules regarding their use in Python are much more precise."
   ]
  },
  {
   "cell_type": "markdown",
   "id": "994f8658",
   "metadata": {},
   "source": [
    "### The `and` Keyword 📦\n",
    "When two statements P and Q are combined with `and`, the truth value of the compound statement \"P and Q\" is true if and only if both P and Q are true."
   ]
  },
  {
   "cell_type": "code",
   "execution_count": 25,
   "id": "7ae4512c",
   "metadata": {},
   "outputs": [
    {
     "name": "stdout",
     "output_type": "stream",
     "text": [
      "True and True: True\n",
      "True and False: False\n",
      "1 < 2 and 3 < 4: True\n"
     ]
    }
   ],
   "source": [
    "# and operator\n",
    "print(f\"True and True: {True and True}\")\n",
    "print(f\"True and False: {True and False}\")\n",
    "print(f\"1 < 2 and 3 < 4: {1 < 2 and 3 < 4}\")"
   ]
  },
  {
   "cell_type": "markdown",
   "id": "dacef0f6",
   "metadata": {},
   "source": [
    "### The `or` Keyword 📦\n",
    "In Python, the `or` keyword is inclusive. That is, if P and Q are two expressions, then the statement \"P or Q\" is true if any of the following are true:\n",
    "1. P is true\n",
    "2. Q is true\n",
    "3. Both P and Q are true"
   ]
  },
  {
   "cell_type": "code",
   "execution_count": 26,
   "id": "55373dbb",
   "metadata": {},
   "outputs": [
    {
     "name": "stdout",
     "output_type": "stream",
     "text": [
      "True or False: True\n",
      "False or False: False\n",
      "2 < 1 or 3 < 4: True\n"
     ]
    }
   ],
   "source": [
    "# or operator\n",
    "print(f\"True or False: {True or False}\")\n",
    "print(f\"False or False: {False or False}\")\n",
    "print(f\"2 < 1 or 3 < 4: {2 < 1 or 3 < 4}\")"
   ]
  },
  {
   "cell_type": "markdown",
   "id": "225303a5",
   "metadata": {},
   "source": [
    "### The `not` Keyword 📦\n",
    "The `not` keyword reverses the truth value of a single expression:\n",
    "\n",
    "| Use of `not` | Result |\n",
    "|--------------|--------|\n",
    "| `not True`   | False  |\n",
    "| `not False`  | True   |"
   ]
  },
  {
   "cell_type": "code",
   "execution_count": 27,
   "id": "7a0b517d",
   "metadata": {},
   "outputs": [
    {
     "name": "stdout",
     "output_type": "stream",
     "text": [
      "not True: False\n",
      "not False: True\n",
      "False == (not True): True\n"
     ]
    }
   ],
   "source": [
    "# not operator\n",
    "print(f\"not True: {not True}\")\n",
    "print(f\"not False: {not False}\")\n",
    "\n",
    "# Operator precedence with parentheses\n",
    "print(f\"False == (not True): {False == (not True)}\")"
   ]
  },
  {
   "cell_type": "markdown",
   "id": "26c068a6",
   "metadata": {},
   "source": [
    "### Operator Precedence 🎯\n",
    "Python evaluates operators in a specific order:\n",
    "\n",
    "1. Comparison operators (`<`, `<=`, `==`, `>=`, `>`)\n",
    "2. `not`\n",
    "3. `and`\n",
    "4. `or`\n",
    "\n",
    "Use parentheses to control evaluation order!"
   ]
  },
  {
   "cell_type": "code",
   "execution_count": 28,
   "id": "b2297efb",
   "metadata": {},
   "outputs": [
    {
     "name": "stdout",
     "output_type": "stream",
     "text": [
      "True and not (1 != 1): True\n",
      "('A' != 'A') or not (2 >= 3): True\n",
      "(1 <= 1) and (1 != 1): False\n",
      "not (1 != 2): False\n",
      "('good' != 'bad') or False: True\n",
      "('good' != 'Good') and not (1 == 1): False\n"
     ]
    }
   ],
   "source": [
    "# Complex expressions\n",
    "print(f\"True and not (1 != 1): {True and not (1 != 1)}\")\n",
    "print(f\"('A' != 'A') or not (2 >= 3): {('A' != 'A') or not (2 >= 3)}\")\n",
    "\n",
    "# Practice exercises\n",
    "print(f\"(1 <= 1) and (1 != 1): {(1 <= 1) and (1 != 1)}\")\n",
    "print(f\"not (1 != 2): {not (1 != 2)}\")\n",
    "print(f\"('good' != 'bad') or False: {('good' != 'bad') or False}\")\n",
    "print(f\"('good' != 'Good') and not (1 == 1): {('good' != 'Good') and not (1 == 1)}\")"
   ]
  },
  {
   "cell_type": "markdown",
   "id": "027b874a",
   "metadata": {},
   "source": [
    "## 6.3 Control the Flow of Your Program 🎮"
   ]
  },
  {
   "cell_type": "markdown",
   "id": "030f372a",
   "metadata": {},
   "source": [
    "### Conditional Statements 🌊\n",
    "Control program flow based on conditions:\n",
    "- `if`: Execute code if condition is True\n",
    "- `elif`: Check additional conditions if previous ones were False\n",
    "- `else`: Execute code if all previous conditions were False"
   ]
  },
  {
   "cell_type": "code",
   "execution_count": 29,
   "id": "4a1f17df",
   "metadata": {},
   "outputs": [
    {
     "name": "stdout",
     "output_type": "stream",
     "text": [
      "You passed the class! 🎉\n",
      "Thank you for attending.\n",
      "You did not pass the class 😢\n",
      "Thank you for attending.\n"
     ]
    }
   ],
   "source": [
    "# if statement\n",
    "grade = 95\n",
    "if grade >= 70:\n",
    "    print(\"You passed the class! 🎉\")\n",
    "print(\"Thank you for attending.\")\n",
    "\n",
    "# if-else statement\n",
    "grade = 40\n",
    "if grade >= 70:\n",
    "    print(\"You passed the class! 🎉\")\n",
    "else:\n",
    "    print(\"You did not pass the class 😢\")\n",
    "print(\"Thank you for attending.\")"
   ]
  },
  {
   "cell_type": "markdown",
   "id": "7ddea909",
   "metadata": {},
   "source": [
    "### The `elif` Keyword 📦\n",
    "The `elif` keyword is short for \"else if\" and can be used to add additional conditions after an `if` statement."
   ]
  },
  {
   "cell_type": "code",
   "execution_count": 30,
   "id": "0ee55bc1",
   "metadata": {},
   "outputs": [
    {
     "name": "stdout",
     "output_type": "stream",
     "text": [
      "You passed the class with a B. 👍\n",
      "Thanks for attending.\n"
     ]
    }
   ],
   "source": [
    "# if-elif-else statement\n",
    "grade = 85\n",
    "if grade >= 90:\n",
    "    print(\"You passed the class with an A. 🎉\")\n",
    "elif grade >= 80:\n",
    "    print(\"You passed the class with a B. 👍\")\n",
    "elif grade >= 70:\n",
    "    print(\"You passed the class with a C. ✅\")\n",
    "else:\n",
    "    print(\"You did not pass the class. 😢\")\n",
    "print(\"Thanks for attending.\")"
   ]
  },
  {
   "cell_type": "markdown",
   "id": "5364e2e1",
   "metadata": {},
   "source": [
    "### Nested Conditionals 🪆\n",
    "Just like for and while loops can be nested within each another, you can nest an `if` statement inside another `if` statement to create complicated decision-making structures."
   ]
  },
  {
   "cell_type": "code",
   "execution_count": null,
   "id": "dbd86cfd",
   "metadata": {},
   "outputs": [],
   "source": [
    "# Nested conditionals example\n",
    "sport = input(\"Enter a sport: \")\n",
    "p1_score = int(input(\"Enter player 1 score: \"))\n",
    "p2_score = int(input(\"Enter player 2 score: \"))\n",
    "\n",
    "if sport.lower() == \"basketball\":\n",
    "    if p1_score == p2_score:\n",
    "        print(\"The game is a draw. 🤝\")\n",
    "    elif p1_score > p2_score:\n",
    "        print(\"Player 1 wins. 🎉\")\n",
    "    else:\n",
    "        print(\"Player 2 wins. 🎉\")\n",
    "elif sport.lower() == \"golf\":\n",
    "    if p1_score == p2_score:\n",
    "        print(\"The game is a draw. 🤝\")\n",
    "    elif p1_score < p2_score:  # In golf, lower score wins\n",
    "        print(\"Player 1 wins. 🎉\")\n",
    "    else:\n",
    "        print(\"Player 2 wins. 🎉\")\n",
    "else:\n",
    "    print(\"Unknown sport 🏅\")"
   ]
  },
  {
   "cell_type": "markdown",
   "id": "b110bf0e",
   "metadata": {},
   "source": [
    "## Challenge: Find the Factors of a Number 🔍\n",
    "A factor of a positive integer n is any positive integer less than or equal to n that divides n with no remainder.\n",
    "\n",
    "For example, 3 is a factor of 12 because 12 divided by 3 is 4 with no remainder. However, 5 is not a factor of 12 because 5 goes into 12 twice with a remainder of 2."
   ]
  },
  {
   "cell_type": "code",
   "execution_count": 31,
   "id": "c0ec18de",
   "metadata": {},
   "outputs": [
    {
     "name": "stdout",
     "output_type": "stream",
     "text": [
      "Factors of 12: [1, 2, 3, 4, 6, 12] 🔢\n",
      "Factors of 28: [1, 2, 4, 7, 14, 28] 🔢\n",
      "Factors of 45: [1, 3, 5, 9, 15, 45] 🔢\n",
      "Factors of 100: [1, 2, 4, 5, 10, 20, 25, 50, 100] 🔢\n"
     ]
    }
   ],
   "source": [
    "def find_factors(n):\n",
    "    \"\"\"\n",
    "    Find all factors of a given positive integer.\n",
    "    \n",
    "    Parameters:\n",
    "    n (int): A positive integer\n",
    "    \n",
    "    Returns:\n",
    "    list: All factors of n\n",
    "    \"\"\"\n",
    "    factors = []\n",
    "    \n",
    "    # Check all numbers from 1 to n\n",
    "    for num in range(1, n + 1):\n",
    "        if n % num == 0:  # If n is divisible by num\n",
    "            factors.append(num)\n",
    "    \n",
    "    return factors\n",
    "\n",
    "# Test with different numbers\n",
    "numbers_to_test = [12, 28, 45, 100]\n",
    "\n",
    "for number in numbers_to_test:\n",
    "    factors = find_factors(number)\n",
    "    print(f\"Factors of {number}: {factors} 🔢\")"
   ]
  },
  {
   "cell_type": "markdown",
   "id": "4e25ad57",
   "metadata": {},
   "source": [
    "## 6.4 Break Out of the Pattern 🔄"
   ]
  },
  {
   "cell_type": "markdown",
   "id": "04208901",
   "metadata": {},
   "source": [
    "### Loop Control Statements 🎛️\n",
    "Python provides special statements to control loop execution:\n",
    "- `break`: Exit the loop immediately\n",
    "- `continue`: Skip to the next iteration\n",
    "- `else`: Execute code if loop completes without hitting a break"
   ]
  },
  {
   "cell_type": "code",
   "execution_count": 32,
   "id": "965f3b06",
   "metadata": {},
   "outputs": [
    {
     "name": "stdout",
     "output_type": "stream",
     "text": [
      "Break example:\n",
      "Current value: 0\n",
      "Current value: 1\n",
      "Current value: 2\n",
      "Current value: 3\n",
      "Current value: 4\n",
      "Reached 5, breaking! 🛑\n",
      "\n",
      "Continue example:\n",
      "Odd number: 1\n",
      "Odd number: 3\n",
      "Odd number: 5\n",
      "Odd number: 7\n",
      "Odd number: 9\n",
      "\n",
      "For-else example:\n",
      "Loop completed without break! ✅\n"
     ]
    }
   ],
   "source": [
    "# break example - exit loop when condition met\n",
    "print(\"Break example:\")\n",
    "for i in range(10):\n",
    "    if i == 5:\n",
    "        print(\"Reached 5, breaking! 🛑\")\n",
    "        break\n",
    "    print(f\"Current value: {i}\")\n",
    "\n",
    "# continue example - skip specific iterations\n",
    "print(\"\\nContinue example:\")\n",
    "for i in range(10):\n",
    "    if i % 2 == 0:  # Skip even numbers\n",
    "        continue\n",
    "    print(f\"Odd number: {i}\")\n",
    "\n",
    "# for-else example - run if no break occurred\n",
    "print(\"\\nFor-else example:\")\n",
    "for i in range(5):\n",
    "    if i == 10:  # This will never happen\n",
    "        break\n",
    "else:\n",
    "    print(\"Loop completed without break! ✅\")"
   ]
  },
  {
   "cell_type": "markdown",
   "id": "1ab5d60b",
   "metadata": {},
   "source": [
    "## 6.5 Recover From Errors 🆘"
   ]
  },
  {
   "cell_type": "markdown",
   "id": "baddac0c",
   "metadata": {},
   "source": [
    "### Types of error\n",
    "####  A Zoo of Exceptions\n",
    " When you encounter an exception, it’s useful to know what went\n",
    " wrong. Python has a number of built-in exception types that describe\n",
    " different kinds of errors."
   ]
  },
  {
   "cell_type": "markdown",
   "id": "1ef829c4",
   "metadata": {},
   "source": [
    "#### Value Error\n",
    " \n",
    " A ValueError occurs when an operation encounters an invalid value.\n",
    " \n",
    " For example, trying to convert the string \"not a number\" to an integer\n",
    " results in a ValueError:\n",
    "\n",
    "int(\"roar\")"
   ]
  },
  {
   "cell_type": "markdown",
   "id": "cc6fa36c",
   "metadata": {},
   "source": [
    "#### Type Error\n",
    " A TypeError occurs when an operation is performed on a value of the\n",
    " wrong type. \n",
    " \n",
    " For example, trying to add a string and an integer will\n",
    " result in a TypeError:\n",
    "\n",
    " \"1\" + 2"
   ]
  },
  {
   "cell_type": "markdown",
   "id": "8b4d066a",
   "metadata": {},
   "source": [
    "#### NameError\n",
    " A NameError occurs when you try to use a variable name that hasn’t\n",
    " been defined:\n",
    "\n",
    " print(abebe)"
   ]
  },
  {
   "cell_type": "markdown",
   "id": "b1dc357a",
   "metadata": {},
   "source": [
    "### Exception Handling 🛡️\n",
    "Python uses try-except blocks to handle errors gracefully:\n",
    "- `try`: Code that might cause an error\n",
    "- `except`: Code to handle specific errors\n",
    "- `else`: Code to run if no errors occurred\n",
    "- `finally`: Code that always runs, regardless of errors"
   ]
  },
  {
   "cell_type": "code",
   "execution_count": null,
   "id": "2ecc2bfa",
   "metadata": {},
   "outputs": [],
   "source": [
    "# Basic exception handling\n",
    "try:\n",
    "    number = int(input(\"Enter an integer: \"))\n",
    "    print(f\"You entered: {number}\")\n",
    "except ValueError:\n",
    "    print(\"That was not a valid integer!\")\n",
    "\n",
    "# Handling multiple exceptions\n",
    "def safe_divide(a, b):\n",
    "    \"\"\"Safely divide two numbers with error handling.\"\"\"\n",
    "    try:\n",
    "\n",
    "        result = a / b\n",
    "    except ZeroDivisionError:\n",
    "        return \"Error: Cannot divide by zero! ❌\"\n",
    "    except TypeError:\n",
    "        return \"Error: Both inputs must be numbers! ❌\"\n",
    "    else:\n",
    "        return f\"Result: {result} ✅\"\n",
    "    finally:\n",
    "        print(\"Division operation completed 🎯\")\n",
    "\n",
    "# Test the function\n",
    "print(safe_divide(10, 2))\n",
    "print(safe_divide(10, 0))\n",
    "print(safe_divide(10, \"two\"))"
   ]
  },
  {
   "cell_type": "markdown",
   "id": "7ca76494",
   "metadata": {},
   "source": [
    "## 6.6 Simulate Events and Calculate Probabilities 🎲"
   ]
  },
  {
   "cell_type": "markdown",
   "id": "2a5434ca",
   "metadata": {},
   "source": [
    "### Random Module and Probability 📊\n",
    "Python's `random` module provides functions for generating random numbers and simulating random events:"
   ]
  },
  {
   "cell_type": "code",
   "execution_count": null,
   "id": "3719fa27",
   "metadata": {},
   "outputs": [],
   "source": [
    "import random\n",
    "\n",
    "# Simple coin flip simulation\n",
    "def coin_flip():\n",
    "    \"\"\"Randomly return 'heads' or 'tails'.\"\"\"\n",
    "    return 'heads' if random.randint(0, 1) == 0 else 'tails'\n",
    "\n",
    "# Simulate multiple coin flips\n",
    "def simulate_coin_flips(num_flips):\n",
    "    \"\"\"Simulate multiple coin flips and return statistics.\"\"\"\n",
    "    heads_count = 0\n",
    "    tails_count = 0\n",
    "    \n",
    "    for _ in range(num_flips):\n",
    "        result = coin_flip()\n",
    "        if result == 'heads':\n",
    "            heads_count += 1\n",
    "        else:\n",
    "            tails_count += 1\n",
    "    \n",
    "    return heads_count, tails_count\n",
    "\n",
    "# Run simulation\n",
    "num_flips = 1000\n",
    "heads, tails = simulate_coin_flips(num_flips)\n",
    "\n",
    "print(f\"After {num_flips} coin flips:\")\n",
    "print(f\"Heads: {heads} ({heads/num_flips*100:.1f}%) ⚪\")\n",
    "print(f\"Tails: {tails} ({tails/num_flips*100:.1f}%) ⚫\")"
   ]
  },
  {
   "cell_type": "markdown",
   "id": "5cfc30d0",
   "metadata": {},
   "source": [
    "### Advanced Probability: Unfair Coin 🎯\n",
    "We can modify our coin flip function to simulate an unfair coin:"
   ]
  },
  {
   "cell_type": "code",
   "execution_count": null,
   "id": "de02a784",
   "metadata": {},
   "outputs": [],
   "source": [
    "def unfair_coin_flip(probability_of_tails):\n",
    "    \"\"\"\n",
    "    Simulate an unfair coin flip.\n",
    "    \n",
    "    Parameters:\n",
    "    probability_of_tails (float): Probability of tails (0.0 to 1.0)\n",
    "    \n",
    "    Returns:\n",
    "    str: 'heads' or 'tails'\n",
    "    \"\"\"\n",
    "    if random.random() < probability_of_tails:\n",
    "        return \"tails\"\n",
    "    else:\n",
    "        return \"heads\"\n",
    "\n",
    "# Test with different probabilities\n",
    "probabilities = [0.3, 0.5, 0.7]\n",
    "num_flips = 1000\n",
    "\n",
    "for p in probabilities:\n",
    "    heads_count = 0\n",
    "    tails_count = 0\n",
    "    \n",
    "    for _ in range(num_flips):\n",
    "        result = unfair_coin_flip(p)\n",
    "        if result == \"heads\":\n",
    "            heads_count += 1\n",
    "        else:\n",
    "            tails_count += 1\n",
    "    \n",
    "    print(f\"\\nWith {p*100}% probability of tails:\")\n",
    "    print(f\"Heads: {heads_count} ({heads_count/num_flips*100:.1f}%)\")\n",
    "    print(f\"Tails: {tails_count} ({tails_count/num_flips*100:.1f}%)\")"
   ]
  },
  {
   "cell_type": "markdown",
   "id": "c0930183",
   "metadata": {},
   "source": [
    "## Challenge: Simulate a Coin Toss Experiment 🎯\n",
    "Suppose you flip a fair coin repeatedly until it lands on heads and tails at least one time each. In other words, after the first flip, you continue to flip the coin until it lands on the other side.\n",
    "\n",
    "Doing this generates a sequence of heads and tails. For example, the first time you do this experiment, the sequence might be heads, heads, tails.\n",
    "\n",
    "On average, how many flips are needed for the sequence to contain both heads and tails?\n",
    "\n",
    "Write a simulation that runs ten thousand trials of the experiment and prints the average number of flips per trial."
   ]
  },
  {
   "cell_type": "code",
   "execution_count": null,
   "id": "9001fb5d",
   "metadata": {},
   "outputs": [],
   "source": [
    "def coin_toss_experiment():\n",
    "    \"\"\"\n",
    "    Simulate flipping a coin until both heads and tails appear.\n",
    "    \n",
    "    Returns:\n",
    "    int: Number of flips needed\n",
    "    \"\"\"\n",
    "    flips = 0\n",
    "    has_head = False\n",
    "    has_tail = False\n",
    "    \n",
    "    # Continue flipping until we have both head and tail\n",
    "    while not (has_head and has_tail):\n",
    "        result = coin_flip()\n",
    "        flips += 1\n",
    "        \n",
    "        if result == \"heads\":\n",
    "            has_head = True\n",
    "        else:\n",
    "            has_tail = True\n",
    "    \n",
    "    return flips\n",
    "\n",
    "# Run the experiment multiple times\n",
    "total_flips = 0\n",
    "num_trials = 10000\n",
    "\n",
    "for _ in range(num_trials):\n",
    "    total_flips += coin_toss_experiment()\n",
    "\n",
    "average_flips = total_flips / num_trials\n",
    "print(f\"Average number of flips needed: {average_flips:.2f}\")"
   ]
  },
  {
   "cell_type": "markdown",
   "id": "a958ade5",
   "metadata": {},
   "source": [
    "## Challenge: Simulate an Election 🗳️\n",
    "With some help from the random module and a little conditional logic, you can simulate an election between two candidates.\n",
    "\n",
    "Suppose two candidates, Candidate A and Candidate B, are running for mayor in a city with three voting regions. The most recent polls show that Candidate A has the following chances for winning in each region:\n",
    "- Region 1: 87% chance of winning\n",
    "- Region 2: 65% chance of winning\n",
    "- Region 3: 17% chance of winning\n",
    "\n",
    "Write a program that simulates the election ten thousand times and prints the percentage of times in which Candidate A wins.\n",
    "\n",
    "To keep things simple, assume that a candidate wins the election if they win in at least two of the three regions."
   ]
  },
  {
   "cell_type": "code",
   "execution_count": 33,
   "id": "3c65c717",
   "metadata": {},
   "outputs": [
    {
     "name": "stdout",
     "output_type": "stream",
     "text": [
      "Candidate A wins 62.79% of the time\n"
     ]
    }
   ],
   "source": [
    "def simulate_election():\n",
    "    \"\"\"\n",
    "    Simulate one election based on regional probabilities.\n",
    "    \n",
    "    Returns:\n",
    "    bool: True if candidate A wins, False otherwise\n",
    "    \"\"\"\n",
    "    # Simulate each region\n",
    "    region1 = random.random() < 0.87  # 87% chance\n",
    "    region2 = random.random() < 0.65  # 65% chance\n",
    "    region3 = random.random() < 0.17  # 17% chance\n",
    "    \n",
    "    # Count wins for candidate A\n",
    "    wins = region1 + region2 + region3\n",
    "    \n",
    "    # Candidate A wins if they win at least 2 regions\n",
    "    return wins >= 2\n",
    "\n",
    "# Run the simulation\n",
    "num_simulations = 10000\n",
    "a_wins = 0\n",
    "\n",
    "for _ in range(num_simulations):\n",
    "    if simulate_election():\n",
    "        a_wins += 1\n",
    "\n",
    "win_percentage = (a_wins / num_simulations) * 100\n",
    "print(f\"Candidate A wins {win_percentage:.2f}% of the time\")"
   ]
  },
  {
   "cell_type": "markdown",
   "id": "conclusion",
   "metadata": {},
   "source": [
    "# 🎉Congratulations on completing this comprehensive Python programming notebook! \n",
    "\n",
    "Keep practicing these concepts, and you'll continue to improve your Python programming skills! Remember that programming is a skill that develops with practice, so don't be discouraged if some concepts take time to fully understand.\n",
    "\n",
    "Happy coding! 🐍✨"
   ]
  }
 ],
 "metadata": {
  "kernelspec": {
   "display_name": "Python 3",
   "language": "python",
   "name": "python3"
  },
  "language_info": {
   "codemirror_mode": {
    "name": "ipython",
    "version": 3
   },
   "file_extension": ".py",
   "mimetype": "text/x-python",
   "name": "python",
   "nbconvert_exporter": "python",
   "pygments_lexer": "ipython3",
   "version": "3.13.3"
  }
 },
 "nbformat": 4,
 "nbformat_minor": 5
}
