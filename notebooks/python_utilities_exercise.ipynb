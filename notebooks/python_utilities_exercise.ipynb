{
 "cells": [
  {
   "cell_type": "markdown",
   "metadata": {},
   "source": [
    "# Python Utilities Exercise Notebook 🐍✨\n",
    "\n",
    "Welcome to this interactive notebook that demonstrates the utility functions from your Python learning repository! This notebook will help you explore and practice with the various modules you've created.\n",
    "\n",
    "## Before You Start 🚦\n",
    "\n",
    "Make sure all the utility files are in the same directory as this notebook:\n",
    "- `api_utils.py`\n",
    "- `conditional_utils.py`\n",
    "- `data_utils.py`\n",
    "- `function_utils.py`\n",
    "- `loop_utils.py`\n",
    "- `nb_data_utils.py`\n",
    "- `oop_utils.py`\n",
    "- `probability_utils.py`\n",
    "- `string_utils.py`\n",
    "- `visualization.py`\n",
    "\n",
    "Let's begin by importing all the necessary modules! 🎯"
   ]
  },
  {
   "cell_type": "code",
   "execution_count": null,
   "metadata": {},
   "outputs": [],
   "source": [
    "# Import all utility modules\n",
    "import api_utils\n",
    "import conditional_utils\n",
    "import data_utils\n",
    "import function_utils\n",
    "import loop_utils\n",
    "import nb_data_utils\n",
    "import oop_utils\n",
    "import probability_utils\n",
    "import string_utils\n",
    "import visualization\n",
    "\n",
    "# Import additional standard libraries\n",
    "import matplotlib.pyplot as plt\n",
    "import numpy as np\n",
    "import random\n",
    "from datetime import datetime\n",
    "\n",
    "print(\"✅ All modules imported successfully!\")"
   ]
  },
  {
   "cell_type": "markdown",
   "metadata": {},
   "source": [
    "## 1. String Utilities Practice 📝\n",
    "\n",
    "Let's start with some string manipulation exercises using your `string_utils` module."
   ]
  },
  {
   "cell_type": "code",
   "execution_count": null,
   "metadata": {},
   "outputs": [],
   "source": [
    "# Example 1: String information\n",
    "sample_text = \"   Hello, Python Learners!   \"\n",
    "string_info = string_utils.string_info(sample_text)\n",
    "\n",
    "print(\"🔍 String Analysis:\")\n",
    "for key, value in string_info.items():\n",
    "    print(f\"{key}: {value}\")\n",
    "\n",
    "# Example 2: Find and replace\n",
    "new_text = string_utils.find_and_replace(sample_text, \"Python\", \"Amazing Python\")\n",
    "print(f\"\\n🔄 Modified Text: '{new_text}'\")\n",
    "\n",
    "# Example 3: Format squares\n",
    "squares = string_utils.format_squares(1, 5)\n",
    "print(\"\\n🔢 Number Squares:\")\n",
    "for square in squares:\n",
    "    print(square)"
   ]
  },
  {
   "cell_type": "markdown",
   "metadata": {},
   "source": [
    "### Your Turn! 🎯\n",
    "\n",
    "Try these exercises with string utilities:\n",
    "\n",
    "1. Create a string with your name and analyze it using `string_info()`\n",
    "2. Replace all spaces in a sentence with underscores\n",
    "3. Generate squares for numbers 6 to 10"
   ]
  },
  {
   "cell_type": "code",
   "execution_count": null,
   "metadata": {},
   "outputs": [],
   "source": [
    "# Your code here\n"
   ]
  },
  {
   "cell_type": "markdown",
   "metadata": {},
   "source": [
    "## 2. Data Utilities & Conditional Logic 🧮\n",
    "\n",
    "Now let's explore data validation and conditional functions."
   ]
  },
  {
   "cell_type": "code",
   "execution_count": null,
   "metadata": {},
   "outputs": [],
   "source": [
    "# Example 1: Validate variable names\n",
    "test_names = [\"valid_name\", \"2invalid\", \"valid_name2\", \"invalid-name\"]\n",
    "print(\"✅ Variable Name Validation:\")\n",
    "for name in test_names:\n",
    "    is_valid = data_utils.validate_variable_name(name)\n",
    "    print(f\"{name}: {'Valid' if is_valid else 'Invalid'}\")\n",
    "\n",
    "# Example 2: Temperature conversion\n",
    "f_temp = 77\n",
    "c_temp = data_utils.fahrenheit_to_celsius(f_temp)\n",
    "print(f\"\\n🌡️ Temperature Conversion: {f_temp}°F = {c_temp:.2f}°C\")\n",
    "\n",
    "# Example 3: Grade calculation\n",
    "scores = [95, 85, 75, 65, 55]\n",
    "print(\"\\n📊 Grade Calculation:\")\n",
    "for score in scores:\n",
    "    grade = conditional_utils.grade_calculator(score)\n",
    "    print(f\"Score {score} = Grade {grade}\")"
   ]
  },
  {
   "cell_type": "markdown",
   "metadata": {},
   "source": [
    "### Your Turn! 🎯\n",
    "\n",
    "Try these exercises:\n",
    "\n",
    "1. Convert 100°F to Celsius\n",
    "2. Calculate the area of a circle with radius 7\n",
    "3. Find all factors of the number 36"
   ]
  },
  {
   "cell_type": "code",
   "execution_count": null,
   "metadata": {},
   "outputs": [],
   "source": [
    "# Your code here\n"
   ]
  },
  {
   "cell_type": "markdown",
   "metadata": {},
   "source": [
    "## 3. Function & Loop Utilities 🔄\n",
    "\n",
    "Let's explore functional programming patterns and loop utilities."
   ]
  },
  {
   "cell_type": "code",
   "execution_count": null,
   "metadata": {},
   "outputs": [],
   "source": [
    "# Example 1: Lambda operations\n",
    "numbers = [1, 2, 3, 4, 5, 6, 7, 8, 9, 10]\n",
    "squared = function_utils.apply_lambda_operations(numbers, function_utils.square)\n",
    "evens = function_utils.filter_with_lambda(numbers, function_utils.is_even)\n",
    "\n",
    "print(\"🔢 Number Operations:\")\n",
    "print(f\"Original: {numbers}\")\n",
    "print(f\"Squared: {squared}\")\n",
    "print(f\"Even numbers: {evens}\")\n",
    "\n",
    "# Example 2: Compound interest calculation\n",
    "interest_data = loop_utils.compound_interest_calculator(1000, 5, 10)\n",
    "print(\"\\n💰 Compound Interest Calculation ($1000 at 5% for 10 years):\")\n",
    "for year, amount in interest_data:\n",
    "    print(f\"Year {year}: ${amount:.2f}\")"
   ]
  },
  {
   "cell_type": "markdown",
   "metadata": {},
   "source": [
    "### Your Turn! 🎯\n",
    "\n",
    "Try these exercises:\n",
    "\n",
    "1. Filter the numbers list to only include odd numbers\n",
    "2. Calculate compound interest for $5000 at 7% for 15 years\n",
    "3. Create a matrix of 3x3 using nested loops"
   ]
  },
  {
   "cell_type": "code",
   "execution_count": null,
   "metadata": {},
   "outputs": [],
   "source": [
    "# Your code here\n"
   ]
  },
  {
   "cell_type": "markdown",
   "metadata": {},
   "source": [
    "## 4. Data Structures & OOP 🏗️\n",
    "\n",
    "Now let's explore data structures and object-oriented programming concepts."
   ]
  },
  {
   "cell_type": "code",
   "execution_count": null,
   "metadata": {},
   "outputs": [],
   "source": [
    "# Example 1: List comprehensions\n",
    "comprehensions = data_structures.list_comprehension_examples()\n",
    "print(\"📊 List Comprehension Examples:\")\n",
    "for key, value in comprehensions.items():\n",
    "    print(f\"{key}: {value}\")\n",
    "\n",
    "# Example 2: OOP demonstration\n",
    "oop_demo = oop_utils.demonstrate_oop_concepts()\n",
    "print(\"\\n🐕 OOP Examples:\")\n",
    "for key, value in oop_demo.items():\n",
    "    print(f\"{key}: {value}\")\n",
    "\n",
    "# Example 3: Named tuple\n",
    "Point = data_structures.create_named_tuple(\"Point\", [\"x\", \"y\"])\n",
    "p1 = Point(3, 4)\n",
    "p2 = Point(6, 8)\n",
    "print(f\"\\n📍 Point 1: {p1}\")\n",
    "print(f\"📍 Point 2: {p2}\")"
   ]
  },
  {
   "cell_type": "markdown",
   "metadata": {},
   "source": [
    "### Your Turn! 🎯\n",
    "\n",
    "Try these exercises:\n",
    "\n",
    "1. Create a Dog object and make it speak\n",
    "2. Create a Rectangle object and calculate its area and perimeter\n",
    "3. Generate a random poem using the poem generator"
   ]
  },
  {
   "cell_type": "code",
   "execution_count": null,
   "metadata": {},
   "outputs": [],
   "source": [
    "# Your code here\n"
   ]
  },
  {
   "cell_type": "markdown",
   "metadata": {},
   "source": [
    "## 5. API Utilities & Probability 🌐🎲\n",
    "\n",
    "Let's explore API functions and probability simulations."
   ]
  },
  {
   "cell_type": "code",
   "execution_count": null,
   "metadata": {},
   "outputs": [],
   "source": [
    "# Example 1: Get a random joke\n",
    "setup, punchline = api_utils.get_joke()\n",
    "if setup and punchline:\n",
    "    print(\"😄 Random Joke:\")\n",
    "    print(f\"Q: {setup}\")\n",
    "    print(f\"A: {punchline}\")\n",
    "else:\n",
    "    print(\"Could not retrieve a joke at this time.\")\n",
    "\n",
    "# Example 2: Coin flip simulation\n",
    "flip_results = probability_utils.simulate_coin_flips(100)\n",
    "print(f\"\\n🎲 Coin Flip Results (100 flips): {flip_results}\")\n",
    "\n",
    "# Example 3: Election simulation\n",
    "region_probs = [0.6, 0.4, 0.7, 0.5, 0.8]\n",
    "win_percentage = probability_utils.run_election_simulation(region_probs, 1000)\n",
    "print(f\"\\n🗳️ Election Simulation: {win_percentage:.2f}% chance of winning\")"
   ]
  },
  {
   "cell_type": "markdown",
   "metadata": {},
   "source": [
    "### Your Turn! 🎯\n",
    "\n",
    "Try these exercises:\n",
    "\n",
    "1. Simulate 1000 coin flips with a biased coin (70% heads)\n",
    "2. Run an election simulation with different probabilities\n",
    "3. Try to get cat facts from the API (note: you might need to handle API limits)"
   ]
  },
  {
   "cell_type": "code",
   "execution_count": null,
   "metadata": {},
   "outputs": [],
   "source": [
    "# Your code here\n"
   ]
  },
  {
   "cell_type": "markdown",
   "metadata": {},
   "source": [
    "## 6. Data Analysis & Visualization 📊\n",
    "\n",
    "Finally, let's explore data analysis and visualization functions."
   ]
  },
  {
   "cell_type": "code",
   "execution_count": null,
   "metadata": {},
   "outputs": [],
   "source": [
    "# Example 1: Create sample data\n",
    "sample_data = nb_data_utils.create_sample_data()\n",
    "print(\"📈 Sample Data Matrix:\")\n",
    "print(sample_data)\n",
    "\n",
    "# Example 2: Array operations\n",
    "operations = nb_data_utils.array_operations_demo()\n",
    "print(\"\\n🧮 Array Operations:\")\n",
    "for op_name, result in operations.items():\n",
    "    print(f\"{op_name}:\")\n",
    "    print(result)\n",
    "    print()\n",
    "\n",
    "# Example 3: Basic plotting\n",
    "data_to_plot = np.random.randn(100).cumsum()\n",
    "plt = visualization.create_basic_plot(data_to_plot, \"Random Walk\", \"Time\", \"Value\")\n",
    "plt.show()"
   ]
  },
  {
   "cell_type": "markdown",
   "metadata": {},
   "source": [
    "### Your Turn! 🎯\n",
    "\n",
    "Try these exercises:\n",
    "\n",
    "1. Create a 5x5 matrix and perform statistical operations on it\n",
    "2. Generate a sine wave and plot it with customization\n",
    "3. Create a visualization of the compound interest data from earlier"
   ]
  },
  {
   "cell_type": "code",
   "execution_count": null,
   "metadata": {},
   "outputs": [],
   "source": [
    "# Your code here\n"
   ]
  },
  {
   "cell_type": "markdown",
   "metadata": {},
   "source": [
    "## Conclusion 🎉\n",
    "\n",
    "Congratulations! You've explored all the utility functions in your Python learning repository. \n",
    "\n",
    "### Key Takeaways:\n",
    "- You've practiced with string manipulation, data validation, and conditional logic\n",
    "- You've explored functional programming patterns and loop utilities\n",
    "- You've worked with data structures and object-oriented programming\n",
    "- You've used API utilities and probability simulations\n",
    "- You've created visualizations for data analysis\n",
    "\n",
    "### Next Steps:\n",
    "1. Try combining functions from different modules\n",
    "2. Create your own utility functions based on these examples\n",
    "3. Extend the existing functions with additional features\n",
    "4. Apply these utilities to real-world projects\n",
    "\n",
    "Happy coding! 🚀🐍"
   ]
  }
 ],
 "metadata": {
  "kernelspec": {
   "display_name": "Python 3",
   "language": "python",
   "name": "python3"
  },
  "language_info": {
   "codemirror_mode": {
    "name": "ipython",
    "version": 3
   },
   "file_extension": ".py",
   "mimetype": "text/x-python",
   "name": "python",
   "nbconvert_exporter": "python",
   "pygments_lexer": "ipython3",
   "version": "3.8.5"
  }
 },
 "nbformat": 4,
 "nbformat_minor": 4
}