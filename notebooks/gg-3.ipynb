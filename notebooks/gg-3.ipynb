{
 "cells": [
  {
   "cell_type": "markdown",
   "metadata": {},
   "source": [
    "# Chapter 7: Tuples, Lists, and Dictionaries 📚\n",
    "\n",
    "## Introduction to Data Structures\n",
    "\n",
    "Welcome to Chapter 9! In this chapter, we'll explore Python's fundamental data structures:\n",
    "- 🧊 Tuples (Immutable sequences)\n",
    "- 📋 Lists (Mutable sequences)\n",
    "- 📖 Dictionaries (Key-value pairs)\n",
    "\n",
    "Data structures help organize and store data efficiently. Choosing the right structure is crucial for writing clean, effective code!"
   ]
  },
  {
   "cell_type": "markdown",
   "metadata": {},
   "source": [
    "## 7.1 Tuples Are Immutable Sequences 🧊\n",
    "\n",
    "### What is a Tuple?\n",
    "A tuple is an ordered, immutable sequence of values. The name comes from mathematics where it describes a finite ordered sequence.\n",
    "\n",
    "Key characteristics:\n",
    "- Ordered collection\n",
    "- Indexed (starts at 0)\n",
    "- Immutable (cannot be changed after creation)\n",
    "- Can contain any data type\n",
    "\n",
    "### Creating Tuples\n",
    "There are several ways to create tuples:"
   ]
  },
  {
   "cell_type": "code",
   "execution_count": 1,
   "metadata": {},
   "outputs": [
    {
     "name": "stdout",
     "output_type": "stream",
     "text": [
      "Type: <class 'tuple'>, Value: (1, 2, 3)\n",
      "From string: ('P', 'y', 't', 'h', 'o', 'n')\n",
      "Single element: (1,), Type: <class 'tuple'>\n",
      "Without comma: 1, Type: <class 'int'>\n"
     ]
    }
   ],
   "source": [
    "# Method 1: Tuple literals\n",
    "my_first_tuple = (1, 2, 3)\n",
    "print(f\"Type: {type(my_first_tuple)}, Value: {my_first_tuple}\")\n",
    "\n",
    "# Method 2: Using tuple() constructor\n",
    "tuple_from_string = tuple(\"Python\")\n",
    "print(f\"From string: {tuple_from_string}\")\n",
    "\n",
    "# Special case: Single element tuple (note the trailing comma)\n",
    "single_element = (1,)\n",
    "print(f\"Single element: {single_element}, Type: {type(single_element)}\")\n",
    "\n",
    "# Without comma - it's not a tuple!\n",
    "not_a_tuple = (1)\n",
    "print(f\"Without comma: {not_a_tuple}, Type: {type(not_a_tuple)}\")"
   ]
  },
  {
   "cell_type": "markdown",
   "metadata": {},
   "source": [
    "### Tuple Operations 🔧\n",
    "\n",
    "Tuples support various operations similar to strings:"
   ]
  },
  {
   "cell_type": "code",
   "execution_count": 2,
   "metadata": {},
   "outputs": [
    {
     "name": "stdout",
     "output_type": "stream",
     "text": [
      "First color: red\n",
      "First two colors: ('red', 'green')\n",
      "Number of colors: 3\n",
      "'red' in colors: True\n",
      "All colors: ('red', 'green', 'blue', 'yellow', 'purple')\n",
      "Repeated tuple: ('red', 'green', 'blue', 'red', 'green', 'blue')\n"
     ]
    }
   ],
   "source": [
    "# Creating a tuple\n",
    "colors = (\"red\", \"green\", \"blue\")\n",
    "\n",
    "# Indexing\n",
    "print(f\"First color: {colors[0]}\")\n",
    "\n",
    "# Slicing\n",
    "print(f\"First two colors: {colors[:2]}\")\n",
    "\n",
    "# Length\n",
    "print(f\"Number of colors: {len(colors)}\")\n",
    "\n",
    "# Membership testing\n",
    "print(f\"'red' in colors: {'red' in colors}\")\n",
    "\n",
    "# Concatenation\n",
    "more_colors = colors + (\"yellow\", \"purple\")\n",
    "print(f\"All colors: {more_colors}\")\n",
    "\n",
    "# Repetition\n",
    "print(f\"Repeated tuple: {colors * 2}\")"
   ]
  },
  {
   "cell_type": "markdown",
   "metadata": {},
   "source": [
    "### Tuple Packing and Unpacking 📦\n",
    "\n",
    "Python allows elegant packing and unpacking of tuples:"
   ]
  },
  {
   "cell_type": "code",
   "execution_count": 3,
   "metadata": {},
   "outputs": [
    {
     "name": "stdout",
     "output_type": "stream",
     "text": [
      "Packed coordinates: (4.21, 9.29), Type: <class 'tuple'>\n",
      "Unpacked: x=4.21, y=9.29\n",
      "Name: David, Age: 34, Occupation: programmer\n",
      "Before swap: a=10, b=20\n",
      "After swap: a=20, b=10\n"
     ]
    }
   ],
   "source": [
    "# Packing values into a tuple\n",
    "coordinates = 4.21, 9.29  # Parentheses are optional\n",
    "print(f\"Packed coordinates: {coordinates}, Type: {type(coordinates)}\")\n",
    "\n",
    "# Unpacking a tuple\n",
    "x, y = coordinates\n",
    "print(f\"Unpacked: x={x}, y={y}\")\n",
    "\n",
    "# Multiple assignment (essentially tuple packing/unpacking)\n",
    "name, age, occupation = \"David\", 34, \"programmer\"\n",
    "print(f\"Name: {name}, Age: {age}, Occupation: {occupation}\")\n",
    "\n",
    "# Swapping variables using tuples\n",
    "a, b = 10, 20\n",
    "print(f\"Before swap: a={a}, b={b}\")\n",
    "a, b = b, a  # This is actually tuple packing and unpacking!\n",
    "print(f\"After swap: a={a}, b={b}\")"
   ]
  },
  {
   "cell_type": "markdown",
   "metadata": {},
   "source": [
    "### Advanced Tuple Concepts 🔍\n",
    "\n",
    "#### Named Tuples\n",
    "Collections module provides named tuples for more readable code:"
   ]
  },
  {
   "cell_type": "code",
   "execution_count": 4,
   "metadata": {},
   "outputs": [
    {
     "name": "stdout",
     "output_type": "stream",
     "text": [
      "Point 1: (10, 20)\n",
      "Point 2: (30, 40)\n",
      "Are points equal? False\n"
     ]
    }
   ],
   "source": [
    "from collections import namedtuple\n",
    "\n",
    "# Create a named tuple type\n",
    "Point = namedtuple('Point', ['x', 'y'])\n",
    "\n",
    "# Create instances\n",
    "p1 = Point(10, 20)\n",
    "p2 = Point(30, 40)\n",
    "\n",
    "print(f\"Point 1: ({p1.x}, {p1.y})\")\n",
    "print(f\"Point 2: ({p2.x}, {p2.y})\")\n",
    "print(f\"Are points equal? {p1 == p2}\")"
   ]
  },
  {
   "cell_type": "markdown",
   "metadata": {},
   "source": [
    "#### When to Use Tuples\n",
    "\n",
    "Tuples are ideal for:\n",
    "- 🔒 Data that shouldn't change (immutable)\n",
    "- 📋 Heterogeneous data (different types)\n",
    "- 🏁 Returning multiple values from functions\n",
    "- 🎯 Dictionary keys (because they're immutable)\n",
    "- ⚡ Slightly faster than lists for iteration"
   ]
  },
  {
   "cell_type": "markdown",
   "metadata": {},
   "source": [
    "## 7.2 Lists Are Mutable Sequences 📋\n",
    "\n",
    "### Introduction to Lists\n",
    "\n",
    "Lists are:\n",
    "- Ordered collections\n",
    "- Mutable (can be changed after creation)\n",
    "- Can contain elements of different types\n",
    "- Indexed (starting at 0)\n",
    "\n",
    "### Creating Lists\n",
    "\n",
    "Multiple ways to create lists:"
   ]
  },
  {
   "cell_type": "code",
   "execution_count": 5,
   "metadata": {},
   "outputs": [
    {
     "name": "stdout",
     "output_type": "stream",
     "text": [
      "Colors: ['red', 'yellow', 'green', 'blue'], Type: <class 'list'>\n",
      "From tuple: [1, 2, 3]\n",
      "From string: ['P', 'y', 't', 'h', 'o', 'n']\n",
      "From split: ['eggs', 'milk', 'cheese']\n",
      "Squares: [0, 1, 4, 9, 16]\n"
     ]
    }
   ],
   "source": [
    "# Method 1: Literal syntax\n",
    "colors = [\"red\", \"yellow\", \"green\", \"blue\"]\n",
    "print(f\"Colors: {colors}, Type: {type(colors)}\")\n",
    "\n",
    "# Method 2: Using list() constructor\n",
    "numbers_list = list((1, 2, 3))  # From tuple\n",
    "print(f\"From tuple: {numbers_list}\")\n",
    "\n",
    "chars_list = list(\"Python\")  # From string\n",
    "print(f\"From string: {chars_list}\")\n",
    "\n",
    "# Method 3: Using split()\n",
    "groceries = \"eggs, milk, cheese\"\n",
    "grocery_list = groceries.split(\", \")\n",
    "print(f\"From split: {grocery_list}\")\n",
    "\n",
    "# Method 4: List comprehension (more on this later)\n",
    "squares = [x**2 for x in range(5)]\n",
    "print(f\"Squares: {squares}\")"
   ]
  },
  {
   "cell_type": "markdown",
   "metadata": {},
   "source": [
    "### List Operations and Methods 🛠️\n",
    "\n",
    "Lists support various operations and methods:"
   ]
  },
  {
   "cell_type": "code",
   "execution_count": 8,
   "metadata": {},
   "outputs": [
    {
     "name": "stdout",
     "output_type": "stream",
     "text": [
      "After append: ['apple', 'banana', 'avocado', 'cherry', 'date']\n",
      "After insert: ['apple', 'avocado', 'banana', 'avocado', 'cherry', 'date']\n",
      "After extend: ['apple', 'avocado', 'banana', 'avocado', 'cherry', 'date', 'elderberry', 'fig']\n",
      "Removed: banana, List: ['apple', 'avocado', 'avocado', 'cherry', 'date', 'elderberry', 'fig']\n",
      "After remove: ['apple', 'avocado', 'cherry', 'date', 'elderberry', 'fig']\n",
      "Index of 'fig': 5\n",
      "Count of 'apple': 1\n",
      "Reversed: ['fig', 'elderberry', 'date', 'cherry', 'avocado', 'apple']\n",
      "Original: ['fig', 'elderberry', 'date', 'cherry', 'avocado', 'apple']\n",
      "Copy: ['fig', 'elderberry', 'date', 'cherry', 'avocado', 'apple', 'grape']\n"
     ]
    }
   ],
   "source": [
    "fruits = [\"apple\", \"banana\",\"avocado\", \"cherry\"]\n",
    "\n",
    "# Adding elements\n",
    "fruits.append(\"date\")  # Add to end\n",
    "print(f\"After append: {fruits}\")\n",
    "\n",
    "fruits.insert(1, \"avocado\")  # Insert at specific position\n",
    "print(f\"After insert: {fruits}\")\n",
    "\n",
    "fruits.extend([\"elderberry\", \"fig\"])  # Add multiple elements\n",
    "print(f\"After extend: {fruits}\")\n",
    "\n",
    "# Removing elements\n",
    "removed_fruit = fruits.pop(2)  # Remove by index\n",
    "print(f\"Removed: {removed_fruit}, List: {fruits}\")\n",
    "\n",
    "fruits.remove(\"avocado\")  # Remove by value\n",
    "print(f\"After remove: {fruits}\")\n",
    "\n",
    "# Other operations\n",
    "print(f\"Index of 'fig': {fruits.index('fig')}\")\n",
    "print(f\"Count of 'apple': {fruits.count('apple')}\")\n",
    "fruits.reverse()\n",
    "print(f\"Reversed: {fruits}\")\n",
    "\n",
    "# Copying a list (important!)\n",
    "fruits_copy = fruits.copy()  # or fruits[:]\n",
    "fruits_copy.append(\"grape\")\n",
    "print(f\"Original: {fruits}\")\n",
    "print(f\"Copy: {fruits_copy}\")"
   ]
  },
  {
   "cell_type": "markdown",
   "metadata": {},
   "source": [
    "### List Comprehensions 🧠\n",
    "\n",
    "A powerful Python feature for creating lists concisely:"
   ]
  },
  {
   "cell_type": "code",
   "execution_count": 9,
   "metadata": {},
   "outputs": [
    {
     "name": "stdout",
     "output_type": "stream",
     "text": [
      "Squares: [0, 1, 4, 9, 16, 25, 36, 49, 64, 81]\n",
      "Even squares: [0, 4, 16, 36, 64]\n",
      "Flattened matrix: [1, 2, 3, 4, 5, 6, 7, 8, 9]\n",
      "String to float: [1.5, 2.3, 5.25]\n"
     ]
    }
   ],
   "source": [
    "# Basic comprehension\n",
    "squares = [x**2 for x in range(10)]\n",
    "print(f\"Squares: {squares}\")\n",
    "\n",
    "# With condition\n",
    "even_squares = [x**2 for x in range(10) if x % 2 == 0]\n",
    "print(f\"Even squares: {even_squares}\")\n",
    "\n",
    "# Nested comprehensions\n",
    "matrix = [[1, 2, 3], [4, 5, 6], [7, 8, 9]]\n",
    "flattened = [num for row in matrix for num in row]\n",
    "print(f\"Flattened matrix: {flattened}\")\n",
    "\n",
    "# Transforming data\n",
    "str_numbers = [\"1.5\", \"2.3\", \"5.25\"]\n",
    "float_numbers = [float(num) for num in str_numbers]\n",
    "print(f\"String to float: {float_numbers}\")"
   ]
  },
  {
   "cell_type": "markdown",
   "metadata": {},
   "source": [
    "## 7.3 Nesting, Copying, and Sorting 📊\n",
    "\n",
    "### Nested Data Structures\n",
    "\n",
    "Lists and tuples can contain other lists and tuples:"
   ]
  },
  {
   "cell_type": "code",
   "execution_count": 10,
   "metadata": {},
   "outputs": [
    {
     "name": "stdout",
     "output_type": "stream",
     "text": [
      "Matrix: [[1, 2, 3], [4, 5, 6], [7, 8, 9]]\n",
      "Element at row 1, column 2: 6\n",
      "Student grades: [('Alice', 85), ('Bob', 92), ('Charlie', 78)]\n",
      "Bob's grade: 92\n"
     ]
    }
   ],
   "source": [
    "# 2D list (matrix)\n",
    "matrix = [\n",
    "    [1, 2, 3],\n",
    "    [4, 5, 6],\n",
    "    [7, 8, 9]\n",
    "]\n",
    "\n",
    "print(f\"Matrix: {matrix}\")\n",
    "print(f\"Element at row 1, column 2: {matrix[1][2]}\")\n",
    "\n",
    "# List of tuples\n",
    "student_grades = [\n",
    "    (\"Alice\", 85),\n",
    "    (\"Bob\", 92),\n",
    "    (\"Charlie\", 78)\n",
    "]\n",
    "\n",
    "print(f\"Student grades: {student_grades}\")\n",
    "print(f\"Bob's grade: {student_grades[1][1]}\")"
   ]
  },
  {
   "cell_type": "markdown",
   "metadata": {},
   "source": [
    "### Copying Lists: Shallow vs Deep Copy 📝\n",
    "\n",
    "Understanding the difference is crucial:"
   ]
  },
  {
   "cell_type": "code",
   "execution_count": 11,
   "metadata": {},
   "outputs": [
    {
     "name": "stdout",
     "output_type": "stream",
     "text": [
      "Original after shallow copy: [[99, 2], [3, 4]]\n",
      "Shallow copy: [[99, 2], [3, 4]]\n",
      "Original after deep copy: [[1, 2], [3, 4]]\n",
      "Deep copy: [[99, 2], [3, 4]]\n"
     ]
    }
   ],
   "source": [
    "import copy\n",
    "\n",
    "# Original list\n",
    "original = [[1, 2], [3, 4]]\n",
    "\n",
    "# Shallow copy (copies references only)\n",
    "shallow_copy = original.copy()  # or original[:]\n",
    "shallow_copy[0][0] = 99\n",
    "print(f\"Original after shallow copy: {original}\")\n",
    "print(f\"Shallow copy: {shallow_copy}\")\n",
    "\n",
    "# Reset\n",
    "original = [[1, 2], [3, 4]]\n",
    "\n",
    "# Deep copy (copies all nested objects)\n",
    "deep_copy = copy.deepcopy(original)\n",
    "deep_copy[0][0] = 99\n",
    "print(f\"Original after deep copy: {original}\")\n",
    "print(f\"Deep copy: {deep_copy}\")"
   ]
  },
  {
   "cell_type": "markdown",
   "metadata": {},
   "source": [
    "### Sorting Lists 🔄\n",
    "\n",
    "Python offers flexible sorting options:"
   ]
  },
  {
   "cell_type": "code",
   "execution_count": 12,
   "metadata": {},
   "outputs": [
    {
     "name": "stdout",
     "output_type": "stream",
     "text": [
      "Sorted numbers: [1, 1, 2, 3, 4, 5, 6, 9]\n",
      "Sorted by length: ['date', 'apple', 'banana', 'cherry']\n",
      "Sorted by grade: [('Bob', 92), ('Alice', 85), ('Charlie', 78)]\n",
      "Original: [3, 1, 4, 1, 5, 9, 2, 6]\n",
      "Sorted: [1, 1, 2, 3, 4, 5, 6, 9]\n"
     ]
    }
   ],
   "source": [
    "# Basic sorting\n",
    "numbers = [3, 1, 4, 1, 5, 9, 2, 6]\n",
    "numbers.sort()  # In-place sort\n",
    "print(f\"Sorted numbers: {numbers}\")\n",
    "\n",
    "# Sorting with key\n",
    "words = [\"apple\", \"banana\", \"cherry\", \"date\"]\n",
    "words.sort(key=len)  # Sort by length\n",
    "print(f\"Sorted by length: {words}\")\n",
    "\n",
    "# Custom sorting\n",
    "students = [(\"Alice\", 85), (\"Bob\", 92), (\"Charlie\", 78)]\n",
    "students.sort(key=lambda x: x[1], reverse=True)  # Sort by grade descending\n",
    "print(f\"Sorted by grade: {students}\")\n",
    "\n",
    "# sorted() function (returns new list)\n",
    "numbers = [3, 1, 4, 1, 5, 9, 2, 6]\n",
    "sorted_numbers = sorted(numbers)\n",
    "print(f\"Original: {numbers}\")\n",
    "print(f\"Sorted: {sorted_numbers}\")"
   ]
  },
  {
   "cell_type": "markdown",
   "metadata": {},
   "source": [
    "## 7.4 Dictionaries: Key-Value Storage 📖\n",
    "\n",
    "### Introduction to Dictionaries\n",
    "\n",
    "Dictionaries are:\n",
    "- Unordered collections (until Python 3.7, then insertion-ordered)\n",
    "- Key-value pairs\n",
    "- Mutable\n",
    "- Extremely fast for lookups\n",
    "\n",
    "### Creating Dictionaries"
   ]
  },
  {
   "cell_type": "code",
   "execution_count": 13,
   "metadata": {},
   "outputs": [
    {
     "name": "stdout",
     "output_type": "stream",
     "text": [
      "Capitals: {'California': 'Sacramento', 'New York': 'Albany', 'Texas': 'Austin'}\n",
      "Capitals 2: {'California': 'Sacramento', 'New York': 'Albany', 'Texas': 'Austin'}\n",
      "Capitals 3: {'California': 'Sacramento', 'NewYork': 'Albany', 'Texas': 'Austin'}\n",
      "Squares: {0: 0, 1: 1, 2: 4, 3: 9, 4: 16}\n"
     ]
    }
   ],
   "source": [
    "# Method 1: Literal syntax\n",
    "capitals = {\n",
    "    \"California\": \"Sacramento\",\n",
    "    \"New York\": \"Albany\",\n",
    "    \"Texas\": \"Austin\"\n",
    "}\n",
    "print(f\"Capitals: {capitals}\")\n",
    "\n",
    "# Method 2: dict() constructor\n",
    "capitals2 = dict([\n",
    "    (\"California\", \"Sacramento\"),\n",
    "    (\"New York\", \"Albany\"),\n",
    "    (\"Texas\", \"Austin\")\n",
    "])\n",
    "print(f\"Capitals 2: {capitals2}\")\n",
    "\n",
    "# Method 3: Keyword arguments\n",
    "capitals3 = dict(California=\"Sacramento\", NewYork=\"Albany\", Texas=\"Austin\")\n",
    "print(f\"Capitals 3: {capitals3}\")\n",
    "\n",
    "# Method 4: Dictionary comprehension\n",
    "squares = {x: x**2 for x in range(5)}\n",
    "print(f\"Squares: {squares}\")"
   ]
  },
  {
   "cell_type": "markdown",
   "metadata": {},
   "source": [
    "### Dictionary Operations 🔧"
   ]
  },
  {
   "cell_type": "code",
   "execution_count": 14,
   "metadata": {},
   "outputs": [
    {
     "name": "stdout",
     "output_type": "stream",
     "text": [
      "Capital of Texas: Austin\n",
      "Capital of Arizona: Not found\n",
      "After changes: {'California': 'Sacramento', 'New York': 'Albany', 'Texas': 'Houston', 'Colorado': 'Denver'}\n",
      "Removed: Albany\n",
      "After removals: {'California': 'Sacramento', 'Colorado': 'Denver'}\n",
      "States: ['California', 'Colorado']\n",
      "Capitals: ['Sacramento', 'Denver']\n",
      "Items: [('California', 'Sacramento'), ('Colorado', 'Denver')]\n"
     ]
    }
   ],
   "source": [
    "# Accessing values\n",
    "print(f\"Capital of Texas: {capitals['Texas']}\")\n",
    "\n",
    "# Safe access with get()\n",
    "print(f\"Capital of Arizona: {capitals.get('Arizona', 'Not found')}\")\n",
    "\n",
    "# Adding/updating values\n",
    "capitals['Colorado'] = \"Denver\"\n",
    "capitals['Texas'] = \"Houston\"  # Update existing\n",
    "print(f\"After changes: {capitals}\")\n",
    "\n",
    "# Removing values\n",
    "del capitals['Texas']\n",
    "removed = capitals.pop('New York', 'Not found')\n",
    "print(f\"Removed: {removed}\")\n",
    "print(f\"After removals: {capitals}\")\n",
    "\n",
    "# Getting all keys and values\n",
    "print(f\"States: {list(capitals.keys())}\")\n",
    "print(f\"Capitals: {list(capitals.values())}\")\n",
    "print(f\"Items: {list(capitals.items())}\")"
   ]
  },
  {
   "cell_type": "markdown",
   "metadata": {},
   "source": [
    "### Dictionary Iteration 🔄"
   ]
  },
  {
   "cell_type": "code",
   "execution_count": 15,
   "metadata": {},
   "outputs": [
    {
     "name": "stdout",
     "output_type": "stream",
     "text": [
      "State: California\n",
      "State: Colorado\n",
      "The capital of California is Sacramento\n",
      "The capital of Colorado is Denver\n",
      "Capital: Sacramento\n",
      "Capital: Denver\n"
     ]
    }
   ],
   "source": [
    "# Iterating through keys (default)\n",
    "for state in capitals:\n",
    "    print(f\"State: {state}\")\n",
    "\n",
    "# Iterating through key-value pairs\n",
    "for state, capital in capitals.items():\n",
    "    print(f\"The capital of {state} is {capital}\")\n",
    "\n",
    "# Iterating through values\n",
    "for capital in capitals.values():\n",
    "    print(f\"Capital: {capital}\")"
   ]
  },
  {
   "cell_type": "markdown",
   "metadata": {},
   "source": [
    "### Nested Dictionaries 🪆"
   ]
  },
  {
   "cell_type": "code",
   "execution_count": 16,
   "metadata": {},
   "outputs": [
    {
     "name": "stdout",
     "output_type": "stream",
     "text": [
      "Texas info: {'capital': 'Austin', 'flower': 'Bluebonnet', 'population': 29000000}\n",
      "Flower of Texas: Bluebonnet\n",
      "California: Capital = Sacramento, Population = 39,500,000\n",
      "Texas: Capital = Austin, Population = 30,000,000\n",
      "New York: Capital = Albany, Population = 19,500,000\n"
     ]
    }
   ],
   "source": [
    "# Creating nested dictionaries\n",
    "states = {\n",
    "    \"California\": {\n",
    "        \"capital\": \"Sacramento\",\n",
    "        \"flower\": \"California Poppy\",\n",
    "        \"population\": 39500000\n",
    "    },\n",
    "    \"Texas\": {\n",
    "        \"capital\": \"Austin\",\n",
    "        \"flower\": \"Bluebonnet\",\n",
    "        \"population\": 29000000\n",
    "    }\n",
    "}\n",
    "\n",
    "print(f\"Texas info: {states['Texas']}\")\n",
    "print(f\"Flower of Texas: {states['Texas']['flower']}\")\n",
    "\n",
    "# Adding a new state\n",
    "states['New York'] = {\n",
    "    \"capital\": \"Albany\",\n",
    "    \"flower\": \"Rose\",\n",
    "    \"population\": 19500000\n",
    "}\n",
    "\n",
    "# Updating nested values\n",
    "states['Texas']['population'] = 30000000\n",
    "\n",
    "# Iterating through nested dictionaries\n",
    "for state, info in states.items():\n",
    "    print(f\"{state}: Capital = {info['capital']}, Population = {info['population']:,}\")"
   ]
  },
  {
   "cell_type": "markdown",
   "metadata": {},
   "source": [
    "###  Dictionary Keys and Immutability\n",
    " In the capitals dictionary that you’ve been working with throughout\n",
    " this section, each key is a string. \n",
    " \n",
    " However, there’s no rule that says dictionary keys must all be of the same type."
   ]
  },
  {
   "cell_type": "code",
   "execution_count": 17,
   "metadata": {},
   "outputs": [
    {
     "data": {
      "text/plain": [
       "{'California': 'Sacramento', 'Colorado': 'Denver', 50: 'Honolulu'}"
      ]
     },
     "execution_count": 17,
     "metadata": {},
     "output_type": "execute_result"
    }
   ],
   "source": [
    "# For instance, you can add an integer key to capitals:\n",
    "capitals[50] = \"Honolulu\"\n",
    "capitals"
   ]
  },
  {
   "cell_type": "markdown",
   "metadata": {},
   "source": [
    "##  How to Choose a Data Structure 🤔\n",
    "\n",
    "### Decision Guide\n",
    "\n",
    "| Data Structure | When to Use | Pros | Cons |\n",
    "|----------------|-------------|------|------|\n",
    "| **List** | Ordered data, need modification, iteration | Mutable, versatile, many methods | Slower for lookups |\n",
    "| **Tuple** | Ordered data, no modification needed, dictionary keys | Immutable (safe), faster than lists | Cannot be modified |\n",
    "| **Dictionary** | Key-value pairs, fast lookups, unstructured data | Very fast lookups, flexible | No inherent order (pre-3.7), memory usage |\n",
    "\n",
    "### Performance Characteristics ⚡\n",
    "\n",
    "| Operation | List | Tuple | Dictionary |\n",
    "|-----------|------|-------|------------|\n",
    "| Indexing | O(1) | O(1) | O(1) |\n",
    "| Append | O(1) | N/A | N/A |\n",
    "| Insert | O(n) | N/A | N/A |\n",
    "| Delete | O(n) | N/A | O(1) |\n",
    "| Search | O(n) | O(n) | O(1) |\n",
    "| Iteration | O(n) | O(n) | O(n) |"
   ]
  },
  {
   "cell_type": "markdown",
   "metadata": {},
   "source": [
    "## Challenge: Capital City Loop 🌎\n",
    "\n",
    "Let's test our knowledge of US state capitals:"
   ]
  },
  {
   "cell_type": "code",
   "execution_count": 19,
   "metadata": {},
   "outputs": [
    {
     "name": "stdout",
     "output_type": "stream",
     "text": [
      "What is the capital of Arkansas?\n",
      "Arkansas - newyork That's not correct. Try again!\n",
      "Arkansas - exist That's not correct. Try again!\n",
      "The correct answer for Arkansas was Little Rock. Goodbye!\n"
     ]
    }
   ],
   "source": [
    "capitals_dict = {\n",
    "    'Alabama': 'Montgomery',\n",
    "    'Alaska': 'Juneau',\n",
    "    'Arizona': 'Phoenix',\n",
    "    'Arkansas': 'Little Rock',\n",
    "    'California': 'Sacramento',\n",
    "    'Colorado': 'Denver',\n",
    "    'Connecticut': 'Hartford',\n",
    "    'Delaware': 'Dover',\n",
    "    'Florida': 'Tallahassee',\n",
    "    'Georgia': 'Atlanta'\n",
    "}\n",
    "\n",
    "import random\n",
    "\n",
    "def capital_quiz():\n",
    "    # Get a random state\n",
    "    states = list(capitals_dict.keys())\n",
    "    state = random.choice(states)\n",
    "    capital = capitals_dict[state]\n",
    "    \n",
    "    print(f\"What is the capital of {state}?\")\n",
    "    \n",
    "    # Quiz loop\n",
    "    while True:\n",
    "        guess = input(\"Your answer (or 'exit' to quit): \").strip()\n",
    "        \n",
    "        if guess.lower() == 'exit':\n",
    "            print(f\"The correct answer for {state} was {capital}. Goodbye!\")\n",
    "            break\n",
    "        elif guess.title() == capital:\n",
    "            print(f\"the capital of {state}: {guess} Correct! 🎉\")\n",
    "            break\n",
    "        else:\n",
    "            print(f\"{state} - {guess} That's not correct. Try again!\")\n",
    "\n",
    "# Run the quiz\n",
    "capital_quiz()"
   ]
  },
  {
   "cell_type": "markdown",
   "metadata": {},
   "source": [
    "## Challenge: Wax Poetic 🖋️\n",
    "\n",
    "Let's generate some poetry with Python:"
   ]
  },
  {
   "cell_type": "code",
   "execution_count": 20,
   "metadata": {},
   "outputs": [
    {
     "name": "stdout",
     "output_type": "stream",
     "text": [
      "Here's your generated poem:\n",
      "\n",
      "A fragrant gorilla\n",
      "A fragrant gorilla meows for the balding fossil\n",
      "curiously, the gorilla curdles\n",
      "the fossil bounces after a exuberant horse\n"
     ]
    }
   ],
   "source": [
    "import random\n",
    "\n",
    "nouns = [\"fossil\", \"horse\", \"aardvark\", \"judge\", \"chef\", \"mango\", \"extrovert\", \"gorilla\"]\n",
    "verbs = [\"kicks\", \"jingles\", \"bounces\", \"slurps\", \"meows\", \"explodes\", \"curdles\"]\n",
    "adjectives = [\"furry\", \"balding\", \"incredulous\", \"fragrant\", \"exuberant\", \"glistening\"]\n",
    "prepositions = [\"against\", \"after\", \"into\", \"beneath\", \"upon\", \"for\", \"in\", \"like\", \"over\", \"within\"]\n",
    "adverbs = [\"curiously\", \"extravagantly\", \"tantalizingly\", \"furiously\", \"sensuously\"]\n",
    "\n",
    "def select_random_words():\n",
    "    return {\n",
    "        'nouns': random.sample(nouns, 3),\n",
    "        'verbs': random.sample(verbs, 3),\n",
    "        'adjectives': random.sample(adjectives, 3),\n",
    "        'prepositions': random.sample(prepositions, 2),\n",
    "        'adverbs': random.sample(adverbs, 1)\n",
    "    }\n",
    "\n",
    "def make_poem():\n",
    "    words = select_random_words()\n",
    "    \n",
    "    # Get the words\n",
    "    noun1, noun2, noun3 = words['nouns']\n",
    "    verb1, verb2, verb3 = words['verbs']\n",
    "    adj1, adj2, adj3 = words['adjectives']\n",
    "    prep1, prep2 = words['prepositions']\n",
    "    adverb1 = words['adverbs'][0]\n",
    "    \n",
    "    # Handle article for adjectives\n",
    "    article = \"An\" if adj1[0].lower() in 'aeiou' else \"A\"\n",
    "    \n",
    "    # Create the poem\n",
    "    poem = f\"{article} {adj1} {noun1}\\n\"\n",
    "    poem += f\"{article} {adj1} {noun1} {verb1} {prep1} the {adj2} {noun2}\\n\"\n",
    "    poem += f\"{adverb1}, the {noun1} {verb2}\\n\"\n",
    "    poem += f\"the {noun2} {verb3} {prep2} a {adj3} {noun3}\"\n",
    "    \n",
    "    return poem\n",
    "\n",
    "print(\"Here's your generated poem:\\n\")\n",
    "print(make_poem())"
   ]
  },
  {
   "cell_type": "markdown",
   "metadata": {},
   "source": [
    "##  Challenge: University Enrollment Stats 🎓\n",
    "\n",
    "Let's solve the university enrollment challenge with a complete solution:"
   ]
  },
  {
   "cell_type": "code",
   "execution_count": 21,
   "metadata": {},
   "outputs": [
    {
     "name": "stdout",
     "output_type": "stream",
     "text": [
      "******************************\n",
      "Total students: 77,285\n",
      "Total tuition: $ 271,905\n",
      "\n",
      "Student mean: 11,040.71\n",
      "Student median: 10,566\n",
      "\n",
      "Tuition mean: $ 38,843.57\n",
      "Tuition median: $ 39,849\n",
      "******************************\n"
     ]
    }
   ],
   "source": [
    "universities = [\n",
    "    ['California Institute of Technology', 2175, 37704],\n",
    "    ['Harvard', 19627, 39849],\n",
    "    ['Massachusetts Institute of Technology', 10566, 40732],\n",
    "    ['Princeton', 7802, 37000],\n",
    "    ['Rice', 5879, 35551],\n",
    "    ['Stanford', 19535, 40569],\n",
    "    ['Yale', 11701, 40500]\n",
    "]\n",
    "\n",
    "def enrollment_stats(universities):\n",
    "    enrollments = [uni[1] for uni in universities]\n",
    "    tuitions = [uni[2] for uni in universities]\n",
    "    return enrollments, tuitions\n",
    "\n",
    "def mean(values):\n",
    "    return sum(values) / len(values)\n",
    "\n",
    "def median(values):\n",
    "    sorted_values = sorted(values)\n",
    "    n = len(sorted_values)\n",
    "    mid = n // 2\n",
    "    \n",
    "    if n % 2 == 0:\n",
    "        return (sorted_values[mid - 1] + sorted_values[mid]) / 2\n",
    "    else:\n",
    "        return sorted_values[mid]\n",
    "\n",
    "# Calculate statistics\n",
    "enrollments, tuitions = enrollment_stats(universities)\n",
    "\n",
    "print(\"******************************\")\n",
    "print(f\"Total students: {sum(enrollments):,}\")\n",
    "print(f\"Total tuition: $ {sum(tuitions):,}\")\n",
    "print()\n",
    "print(f\"Student mean: {mean(enrollments):,.2f}\")\n",
    "print(f\"Student median: {median(enrollments):,}\")\n",
    "print()\n",
    "print(f\"Tuition mean: $ {mean(tuitions):,.2f}\")\n",
    "print(f\"Tuition median: $ {median(tuitions):,}\")\n",
    "print(\"******************************\")"
   ]
  },
  {
   "cell_type": "markdown",
   "metadata": {},
   "source": [
    "##  Challenge: Cats With Hats 😸🎩\n",
    "\n",
    "Let's solve the classic cats with hats problem:"
   ]
  },
  {
   "cell_type": "code",
   "execution_count": 22,
   "metadata": {},
   "outputs": [
    {
     "name": "stdout",
     "output_type": "stream",
     "text": [
      "Cats with hats: [1, 4, 9, 16, 25, 36, 49, 64, 81, 100]\n",
      "Number of cats with hats: 10\n",
      "\n",
      "Notice that the cats with hats are all perfect squares!\n",
      "This happens because perfect squares have an odd number of factors,\n",
      "which means their hat status gets toggled an odd number of times.\n"
     ]
    }
   ],
   "source": [
    "def cats_with_hats():\n",
    "    # Create 100 cats without hats (False means no hat)\n",
    "    cats = [False] * 100\n",
    "    \n",
    "    # Walk around 100 times\n",
    "    for round_number in range(1, 101):\n",
    "        # Visit every cat at the current step\n",
    "        for cat_index in range(round_number - 1, 100, round_number):\n",
    "            # Toggle hat status\n",
    "            cats[cat_index] = not cats[cat_index]\n",
    "    \n",
    "    # Find which cats have hats\n",
    "    cats_with_hats = []\n",
    "    for i, has_hat in enumerate(cats):\n",
    "        if has_hat:\n",
    "            cats_with_hats.append(i + 1)  # +1 because cats are numbered from 1\n",
    "    \n",
    "    return cats_with_hats\n",
    "\n",
    "hatted_cats = cats_with_hats()\n",
    "print(f\"Cats with hats: {hatted_cats}\")\n",
    "print(f\"Number of cats with hats: {len(hatted_cats)}\")\n",
    "\n",
    "# Bonus: Pattern recognition\n",
    "print(\"\\nNotice that the cats with hats are all perfect squares!\")\n",
    "print(\"This happens because perfect squares have an odd number of factors,\")\n",
    "print(\"which means their hat status gets toggled an odd number of times.\")"
   ]
  },
  {
   "cell_type": "markdown",
   "metadata": {},
   "source": [
    "## 🎉 Congratulations on completing this Chapter:\n",
    "\n",
    "Remember, choosing the right data structure is key to writing efficient Python code. Practice using each in different scenarios to understand their strengths and weaknesses!\n",
    "\n",
    "Happy coding! 💻"
   ]
  }
 ],
 "metadata": {
  "kernelspec": {
   "display_name": "Python 3",
   "language": "python",
   "name": "python3"
  },
  "language_info": {
   "codemirror_mode": {
    "name": "ipython",
    "version": 3
   },
   "file_extension": ".py",
   "mimetype": "text/x-python",
   "name": "python",
   "nbconvert_exporter": "python",
   "pygments_lexer": "ipython3",
   "version": "3.13.3"
  }
 },
 "nbformat": 4,
 "nbformat_minor": 5
}